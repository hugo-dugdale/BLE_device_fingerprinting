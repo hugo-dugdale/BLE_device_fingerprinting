{
 "cells": [
  {
   "cell_type": "markdown",
   "metadata": {},
   "source": [
    "# **Packet Classification**"
   ]
  },
  {
   "cell_type": "markdown",
   "metadata": {},
   "source": [
    "Notebook perofmring classification of device packets using time from last packet data."
   ]
  },
  {
   "cell_type": "markdown",
   "metadata": {},
   "source": [
    "## i. Imports"
   ]
  },
  {
   "cell_type": "code",
   "execution_count": 1,
   "metadata": {},
   "outputs": [],
   "source": [
    "import os\n",
    "import gc\n",
    "import sys\n",
    "import csv\n",
    "import torch\n",
    "import numpy as np\n",
    "import pandas as pd\n",
    "import seaborn as sns\n",
    "import matplotlib.pyplot as plt\n",
    "import torch.nn as nn\n",
    "import torch.nn.functional as F\n",
    "from sklearn import svm\n",
    "from sklearn.model_selection import train_test_split\n",
    "from sklearn.preprocessing import OneHotEncoder\n",
    "from sklearn.metrics import confusion_matrix, precision_score, recall_score, f1_score\n",
    "from torch.utils.data import Dataset, DataLoader\n",
    "from tqdm.notebook import tqdm\n",
    "from imblearn.over_sampling import RandomOverSampler"
   ]
  },
  {
   "cell_type": "markdown",
   "metadata": {},
   "source": [
    "## **1. Setup**"
   ]
  },
  {
   "cell_type": "code",
   "execution_count": 2,
   "metadata": {},
   "outputs": [],
   "source": [
    "# Directories\n",
    "BASEDIR = os.getcwd()\n",
    "DATADIR = os.path.join(BASEDIR, 'data')\n",
    "FIGUREDIR = os.path.join(BASEDIR, 'figures')\n",
    "\n",
    "# Devices\n",
    "devices = {'ihealth_bpm': 0, 'viatom_wpo': 1, 'vivachek_bgm': 2}\n",
    "\n",
    "# Colour palette\n",
    "sns.set_palette('deep')\n",
    "\n",
    "# GPU settings\n",
    "device = torch.device(\"cuda\" if torch.cuda.is_available() else \"cpu\")\n",
    "if device.type == 'cuda':\n",
    "    gc.collect()\n",
    "    torch.cuda.empty_cache()\n",
    "\n",
    "# Training hyperparameters\n",
    "N_EPOCHS = 30\n",
    "BATCH_SIZE = 128\n",
    "N_FEATURES = 1\n",
    "N_LABELS = 3\n",
    "LEARNING_RATE = 0.001"
   ]
  },
  {
   "cell_type": "code",
   "execution_count": 3,
   "metadata": {},
   "outputs": [],
   "source": [
    "# Custom functions\n",
    "def bold(string):\n",
    "    \"\"\"\n",
    "    Make string bold.\n",
    "\n",
    "    Args:\n",
    "        string (str): String to be made bold.\n",
    "\n",
    "    Returns:\n",
    "        str: Bold string.\n",
    "\n",
    "    Raises:\n",
    "        TypeError: If the input is not a string.\n",
    "    \"\"\"\n",
    "    # Check input type\n",
    "    if not isinstance(string, str):\n",
    "        raise TypeError(\"Input must be a string!\")\n",
    "    \n",
    "    return \"\\033[1m\" + string + \"\\033[0m\"\n",
    "\n",
    "def calculate_metrics(y_true, y_pred, model, return_cm=False):\n",
    "    \"\"\"\n",
    "    Calculate performance metrics and \n",
    "    plot confusion matrix given predictions \n",
    "    and ground truth values.\n",
    "\n",
    "    Args:\n",
    "        y_true (np.array): Array of ground truth y values.\n",
    "        y_pred (np.array): Array of y value predictions.\n",
    "        model (str): Name of model that generated predictions.\n",
    "        return_cm (Bool): Boolean determining if confusion matric data is returned.\n",
    "\n",
    "    Returns:\n",
    "        float: Total model accuracy.\n",
    "        DataFrame: DataFrame of groupwise performance metrics.\n",
    "        DataFrame: Confusion matrix data (optional).\n",
    "    \"\"\"\n",
    "    # Build confusion matrix\n",
    "    cf_matrix = confusion_matrix(y_true, y_pred)\n",
    "    df_cm = pd.DataFrame(cf_matrix / np.sum(cf_matrix, axis=1)[:, None], index = [i for i in devices],\n",
    "                         columns = [c for c in devices])\n",
    "    plt.figure(figsize = (12,7))\n",
    "    plt.title(f'Confusion Matrix between Devices for {model} Model')\n",
    "    sns.heatmap(df_cm, annot=True)\n",
    "    plt.show()\n",
    "\n",
    "    # Calculate performance metrics\n",
    "    accuracy = 100 * np.sum(y_pred == y_true) / len(y_true)\n",
    "    precision = np.round(precision_score(y_true, y_pred, average=None), 2)\n",
    "    recall = np.round(recall_score(y_true, y_pred, average=None), 2)\n",
    "    f1 = np.round(f1_score(y_true, y_pred, average=None), 2)\n",
    "\n",
    "    # Create perfromance table\n",
    "    res_df = pd.DataFrame([precision, recall, f1],\n",
    "                           columns=devices.keys(),\n",
    "                           index=['Precision', 'Recall', 'F1 Score'])\n",
    "\n",
    "    # Return\n",
    "    if return_cm:\n",
    "        return accuracy, res_df, df_cm \n",
    "    else:\n",
    "        return accuracy, res_df"
   ]
  },
  {
   "cell_type": "markdown",
   "metadata": {},
   "source": [
    "## **2. Load data**"
   ]
  },
  {
   "cell_type": "markdown",
   "metadata": {},
   "source": [
    "### 2.1 Load data from CSV"
   ]
  },
  {
   "cell_type": "code",
   "execution_count": 4,
   "metadata": {},
   "outputs": [],
   "source": [
    "# CSV file into pandas\n",
    "interpacket_csv = os.path.join(DATADIR, 'inter_packet_timings.csv')\n",
    "data_df = pd.read_csv(interpacket_csv)"
   ]
  },
  {
   "cell_type": "markdown",
   "metadata": {},
   "source": [
    "### 2.2 Prepare data for model training"
   ]
  },
  {
   "cell_type": "code",
   "execution_count": 5,
   "metadata": {},
   "outputs": [],
   "source": [
    "class CustomDataset(Dataset):\n",
    "    \"\"\"\n",
    "    Custom PyTorch Dataset \n",
    "    for time data.\n",
    "\n",
    "    Attributes:\n",
    "        data_array (array): NumPy array of data.\n",
    "    \"\"\"\n",
    "\n",
    "    def __init__(self, data_array):\n",
    "        self.data_array = data_array\n",
    "\n",
    "    def __len__(self):\n",
    "        return len(self.data_array)\n",
    "    \n",
    "    def __getitem__(self, idx):\n",
    "        # Convert item to tensor\n",
    "        if torch.is_tensor(idx):\n",
    "            idx = idx.tolist()\n",
    "        \n",
    "        # Obtain sample and subject\n",
    "        sample = self.data_array[idx]\n",
    "        sample = torch.Tensor(sample)\n",
    "        label = sample[-1]\n",
    "        sample = sample[:-1]\n",
    "        sample = torch.Tensor(sample)\n",
    "\n",
    "        # Obtain label and encode\n",
    "        label = onehot_encoder.transform([[label]])[0]\n",
    "\n",
    "        return sample, label"
   ]
  },
  {
   "cell_type": "code",
   "execution_count": 6,
   "metadata": {},
   "outputs": [],
   "source": [
    "# Split into training and test\n",
    "[train_data, test_data] = train_test_split(data_df, random_state=1)\n",
    "\n",
    "# Replace devices with numeric mapping\n",
    "train_data.replace({'Device': devices}, inplace=True)\n",
    "test_data.replace({'Device': devices}, inplace=True)\n",
    "\n",
    "# Normalise data\n",
    "train_temp_columns = train_data.iloc[:, -1]\n",
    "test_temp_columns = test_data.iloc[:, -1]\n",
    "train_data_norm = train_data.iloc[:, 0]\n",
    "test_data_norm = test_data.iloc[:, 0]\n",
    "train_data_norm = (train_data_norm-train_data_norm.mean())/train_data_norm.std()\n",
    "test_data_norm = (test_data_norm-test_data_norm.mean())/test_data_norm.std()\n",
    "train_data_norm = pd.concat([train_data_norm, train_temp_columns], axis=1)\n",
    "test_data_norm = pd.concat([test_data_norm, test_temp_columns], axis=1)"
   ]
  },
  {
   "cell_type": "code",
   "execution_count": 7,
   "metadata": {},
   "outputs": [
    {
     "name": "stdout",
     "output_type": "stream",
     "text": [
      "Training samples from ihealth_bpm - 5462\n",
      "Training samples from viatom_wpo - 267\n",
      "Training samples from vivachek_bgm - 4400\n",
      "\n",
      "Training samples from ihealth_bpm after oversampling - 5462\n",
      "Training samples from viatom_wpo after oversampling - 5462\n",
      "Training samples from vivachek_bgm after oversampling - 5462\n",
      "\n"
     ]
    }
   ],
   "source": [
    "# Check balance within the training dataset\n",
    "counts = train_data_norm['Device'].value_counts()\n",
    "for d, v in devices.items():\n",
    "    print(f'Training samples from {d} - {counts[v]}')\n",
    "print('')\n",
    "\n",
    "# Balance data using over sampling\n",
    "over_sampler = RandomOverSampler(random_state=1)\n",
    "X_res, y_res = over_sampler.fit_resample(train_data_norm['Interpacket Timing'].values.reshape(-1, 1),\n",
    "                                         train_data_norm['Device'].values)\n",
    "train_data_norm_balanced = pd.DataFrame({'Interpacket Timing': np.squeeze(X_res),\n",
    "                                         'Device': y_res})\n",
    "    \n",
    "# Check balance within the oversampled training dataset\n",
    "counts = train_data_norm_balanced['Device'].value_counts()\n",
    "for d, v in devices.items():\n",
    "    print(f'Training samples from {d} after oversampling - {counts[v]}')\n",
    "print('')"
   ]
  },
  {
   "cell_type": "code",
   "execution_count": 8,
   "metadata": {},
   "outputs": [
    {
     "name": "stdout",
     "output_type": "stream",
     "text": [
      "Training data points: 16386\n",
      "Test data points: 3377\n"
     ]
    }
   ],
   "source": [
    "# Fit onehot encoder\n",
    "onehot_encoder = OneHotEncoder(sparse_output=False)\n",
    "train_labels = train_data_norm_balanced['Device'].values\n",
    "train_labels = train_labels.reshape(len(train_labels), 1)\n",
    "onehot_encoder.fit(train_labels)\n",
    "\n",
    "# Print some statistics\n",
    "print(f'Training data points: {train_data_norm_balanced.shape[0]}')\n",
    "print(f'Test data points: {test_data_norm.shape[0]}')"
   ]
  },
  {
   "cell_type": "code",
   "execution_count": 9,
   "metadata": {},
   "outputs": [],
   "source": [
    "# Create Datasets\n",
    "train_dataset = CustomDataset(train_data_norm_balanced.to_numpy())\n",
    "test_dataset = CustomDataset(test_data_norm.to_numpy())\n",
    "\n",
    "# Create DataLoaders\n",
    "train_dataloader = DataLoader(train_dataset, batch_size=BATCH_SIZE,\n",
    "                              shuffle=True, num_workers=0)\n",
    "test_dataloader = DataLoader(test_dataset, batch_size=BATCH_SIZE,\n",
    "                             shuffle=True, num_workers=0)"
   ]
  },
  {
   "cell_type": "markdown",
   "metadata": {},
   "source": [
    "## **3. Logistic regression**"
   ]
  },
  {
   "cell_type": "markdown",
   "metadata": {},
   "source": [
    "### 3.1 Define model"
   ]
  },
  {
   "cell_type": "code",
   "execution_count": 10,
   "metadata": {},
   "outputs": [],
   "source": [
    "# Logisitc regression model\n",
    "class LogisticRegression(nn.Module):\n",
    "    def __init__(self, in_features, out_labels):\n",
    "        super(LogisticRegression, self).__init__()\n",
    "        self.linear = nn.Linear(in_features, out_labels)\n",
    "\n",
    "    def forward(self, x):\n",
    "        outputs = self.linear(x)\n",
    "        return outputs"
   ]
  },
  {
   "cell_type": "code",
   "execution_count": 11,
   "metadata": {},
   "outputs": [
    {
     "name": "stdout",
     "output_type": "stream",
     "text": [
      "Total number of parameters for the classifier: 6\n",
      "\n",
      "Classifier architecture:\n",
      "LogisticRegression(\n",
      "  (linear): Linear(in_features=1, out_features=3, bias=True)\n",
      ")\n"
     ]
    }
   ],
   "source": [
    "# Initiliase model\n",
    "DeviceClassifier = LogisticRegression(in_features=N_FEATURES, out_labels=N_LABELS).to(device)\n",
    "params = sum(p.numel() for p in DeviceClassifier.parameters() if p.requires_grad)\n",
    "print(\"Total number of parameters for the classifier: {}\\n\".format(params))\n",
    "print(\"Classifier architecture:\")\n",
    "print(DeviceClassifier)\n",
    "\n",
    "# Optimiser and loss\n",
    "optimizer = torch.optim.Adam(DeviceClassifier.parameters(), lr=LEARNING_RATE)\n",
    "criterion = nn.CrossEntropyLoss()"
   ]
  },
  {
   "cell_type": "markdown",
   "metadata": {},
   "source": [
    "### 3.2 Train model"
   ]
  },
  {
   "cell_type": "code",
   "execution_count": 12,
   "metadata": {},
   "outputs": [
    {
     "name": "stdout",
     "output_type": "stream",
     "text": [
      "Beginning training...\n",
      "\n"
     ]
    },
    {
     "data": {
      "application/vnd.jupyter.widget-view+json": {
       "model_id": "11f0159976834152b7837fdc608a0150",
       "version_major": 2,
       "version_minor": 0
      },
      "text/plain": [
       "  0%|          | 0/129 [00:00<?, ?batch/s]"
      ]
     },
     "metadata": {},
     "output_type": "display_data"
    },
    {
     "data": {
      "application/vnd.jupyter.widget-view+json": {
       "model_id": "6af6d6a814c247a5896bf2c5630ac931",
       "version_major": 2,
       "version_minor": 0
      },
      "text/plain": [
       "  0%|          | 0/129 [00:00<?, ?batch/s]"
      ]
     },
     "metadata": {},
     "output_type": "display_data"
    },
    {
     "data": {
      "application/vnd.jupyter.widget-view+json": {
       "model_id": "befc493c1b774d03af9614a922a67b6b",
       "version_major": 2,
       "version_minor": 0
      },
      "text/plain": [
       "  0%|          | 0/129 [00:00<?, ?batch/s]"
      ]
     },
     "metadata": {},
     "output_type": "display_data"
    },
    {
     "data": {
      "application/vnd.jupyter.widget-view+json": {
       "model_id": "ea9199a64f44448eb9a51a66624c0ae1",
       "version_major": 2,
       "version_minor": 0
      },
      "text/plain": [
       "  0%|          | 0/129 [00:00<?, ?batch/s]"
      ]
     },
     "metadata": {},
     "output_type": "display_data"
    },
    {
     "data": {
      "application/vnd.jupyter.widget-view+json": {
       "model_id": "45ee980c20054208a675f0e30376fea6",
       "version_major": 2,
       "version_minor": 0
      },
      "text/plain": [
       "  0%|          | 0/129 [00:00<?, ?batch/s]"
      ]
     },
     "metadata": {},
     "output_type": "display_data"
    },
    {
     "data": {
      "application/vnd.jupyter.widget-view+json": {
       "model_id": "bccea57bbce04f6295f0578a26d04b2b",
       "version_major": 2,
       "version_minor": 0
      },
      "text/plain": [
       "  0%|          | 0/129 [00:00<?, ?batch/s]"
      ]
     },
     "metadata": {},
     "output_type": "display_data"
    },
    {
     "data": {
      "application/vnd.jupyter.widget-view+json": {
       "model_id": "48b0bf1812934ae3b13f69ede511b6fd",
       "version_major": 2,
       "version_minor": 0
      },
      "text/plain": [
       "  0%|          | 0/129 [00:00<?, ?batch/s]"
      ]
     },
     "metadata": {},
     "output_type": "display_data"
    },
    {
     "data": {
      "application/vnd.jupyter.widget-view+json": {
       "model_id": "3ca6f167253c4bfaa546eed3d378267b",
       "version_major": 2,
       "version_minor": 0
      },
      "text/plain": [
       "  0%|          | 0/129 [00:00<?, ?batch/s]"
      ]
     },
     "metadata": {},
     "output_type": "display_data"
    },
    {
     "data": {
      "application/vnd.jupyter.widget-view+json": {
       "model_id": "bc3080cca652489f900e27ace88ef2e7",
       "version_major": 2,
       "version_minor": 0
      },
      "text/plain": [
       "  0%|          | 0/129 [00:00<?, ?batch/s]"
      ]
     },
     "metadata": {},
     "output_type": "display_data"
    },
    {
     "data": {
      "application/vnd.jupyter.widget-view+json": {
       "model_id": "00236b9a2d114927878d2792f4f856a8",
       "version_major": 2,
       "version_minor": 0
      },
      "text/plain": [
       "  0%|          | 0/129 [00:00<?, ?batch/s]"
      ]
     },
     "metadata": {},
     "output_type": "display_data"
    },
    {
     "data": {
      "application/vnd.jupyter.widget-view+json": {
       "model_id": "3f57036802d94e988d48fcbc04dcdd9e",
       "version_major": 2,
       "version_minor": 0
      },
      "text/plain": [
       "  0%|          | 0/129 [00:00<?, ?batch/s]"
      ]
     },
     "metadata": {},
     "output_type": "display_data"
    },
    {
     "data": {
      "application/vnd.jupyter.widget-view+json": {
       "model_id": "06c502808f8f4a2085cbbc11c53efc7a",
       "version_major": 2,
       "version_minor": 0
      },
      "text/plain": [
       "  0%|          | 0/129 [00:00<?, ?batch/s]"
      ]
     },
     "metadata": {},
     "output_type": "display_data"
    },
    {
     "data": {
      "application/vnd.jupyter.widget-view+json": {
       "model_id": "a1fcc74a5eee4e898d075a2acb9fb623",
       "version_major": 2,
       "version_minor": 0
      },
      "text/plain": [
       "  0%|          | 0/129 [00:00<?, ?batch/s]"
      ]
     },
     "metadata": {},
     "output_type": "display_data"
    },
    {
     "data": {
      "application/vnd.jupyter.widget-view+json": {
       "model_id": "019237096e9c43cfb01c1a26f6adfc3f",
       "version_major": 2,
       "version_minor": 0
      },
      "text/plain": [
       "  0%|          | 0/129 [00:00<?, ?batch/s]"
      ]
     },
     "metadata": {},
     "output_type": "display_data"
    },
    {
     "data": {
      "application/vnd.jupyter.widget-view+json": {
       "model_id": "c3034fd2e83545bd8dc08e520bdef7fc",
       "version_major": 2,
       "version_minor": 0
      },
      "text/plain": [
       "  0%|          | 0/129 [00:00<?, ?batch/s]"
      ]
     },
     "metadata": {},
     "output_type": "display_data"
    },
    {
     "data": {
      "application/vnd.jupyter.widget-view+json": {
       "model_id": "cbdc958f2a3c48e6803dd0d5a8d0893b",
       "version_major": 2,
       "version_minor": 0
      },
      "text/plain": [
       "  0%|          | 0/129 [00:00<?, ?batch/s]"
      ]
     },
     "metadata": {},
     "output_type": "display_data"
    },
    {
     "data": {
      "application/vnd.jupyter.widget-view+json": {
       "model_id": "7fc65cfed4784f3eb40ae2111b497b57",
       "version_major": 2,
       "version_minor": 0
      },
      "text/plain": [
       "  0%|          | 0/129 [00:00<?, ?batch/s]"
      ]
     },
     "metadata": {},
     "output_type": "display_data"
    },
    {
     "data": {
      "application/vnd.jupyter.widget-view+json": {
       "model_id": "7c0cd2a2e6fb444a9353ff40a5ab5470",
       "version_major": 2,
       "version_minor": 0
      },
      "text/plain": [
       "  0%|          | 0/129 [00:00<?, ?batch/s]"
      ]
     },
     "metadata": {},
     "output_type": "display_data"
    },
    {
     "data": {
      "application/vnd.jupyter.widget-view+json": {
       "model_id": "1586520e4ae6440a83e82ca31a28e0c2",
       "version_major": 2,
       "version_minor": 0
      },
      "text/plain": [
       "  0%|          | 0/129 [00:00<?, ?batch/s]"
      ]
     },
     "metadata": {},
     "output_type": "display_data"
    },
    {
     "data": {
      "application/vnd.jupyter.widget-view+json": {
       "model_id": "b49bbf8162934d9dbf8cd978e57b3d04",
       "version_major": 2,
       "version_minor": 0
      },
      "text/plain": [
       "  0%|          | 0/129 [00:00<?, ?batch/s]"
      ]
     },
     "metadata": {},
     "output_type": "display_data"
    },
    {
     "data": {
      "application/vnd.jupyter.widget-view+json": {
       "model_id": "e59581323188463686487cd323b6bad3",
       "version_major": 2,
       "version_minor": 0
      },
      "text/plain": [
       "  0%|          | 0/129 [00:00<?, ?batch/s]"
      ]
     },
     "metadata": {},
     "output_type": "display_data"
    },
    {
     "data": {
      "application/vnd.jupyter.widget-view+json": {
       "model_id": "2aad741d932f45daacc1518a9e0698d5",
       "version_major": 2,
       "version_minor": 0
      },
      "text/plain": [
       "  0%|          | 0/129 [00:00<?, ?batch/s]"
      ]
     },
     "metadata": {},
     "output_type": "display_data"
    },
    {
     "data": {
      "application/vnd.jupyter.widget-view+json": {
       "model_id": "1f1e798240a84a14b4b9d2f31189cb2b",
       "version_major": 2,
       "version_minor": 0
      },
      "text/plain": [
       "  0%|          | 0/129 [00:00<?, ?batch/s]"
      ]
     },
     "metadata": {},
     "output_type": "display_data"
    },
    {
     "data": {
      "application/vnd.jupyter.widget-view+json": {
       "model_id": "3c663399c8ae4d14919d7d602b74b9b3",
       "version_major": 2,
       "version_minor": 0
      },
      "text/plain": [
       "  0%|          | 0/129 [00:00<?, ?batch/s]"
      ]
     },
     "metadata": {},
     "output_type": "display_data"
    },
    {
     "data": {
      "application/vnd.jupyter.widget-view+json": {
       "model_id": "db5d0262917d47d9aa75ca1ca3e75f60",
       "version_major": 2,
       "version_minor": 0
      },
      "text/plain": [
       "  0%|          | 0/129 [00:00<?, ?batch/s]"
      ]
     },
     "metadata": {},
     "output_type": "display_data"
    },
    {
     "data": {
      "application/vnd.jupyter.widget-view+json": {
       "model_id": "d6f64f98f35b45439a7c36131ea28f45",
       "version_major": 2,
       "version_minor": 0
      },
      "text/plain": [
       "  0%|          | 0/129 [00:00<?, ?batch/s]"
      ]
     },
     "metadata": {},
     "output_type": "display_data"
    },
    {
     "data": {
      "application/vnd.jupyter.widget-view+json": {
       "model_id": "8ef5f6ceab1440689cf4379f29cede11",
       "version_major": 2,
       "version_minor": 0
      },
      "text/plain": [
       "  0%|          | 0/129 [00:00<?, ?batch/s]"
      ]
     },
     "metadata": {},
     "output_type": "display_data"
    },
    {
     "data": {
      "application/vnd.jupyter.widget-view+json": {
       "model_id": "c4cbd0d1db1e49378afd326e3e2f27b6",
       "version_major": 2,
       "version_minor": 0
      },
      "text/plain": [
       "  0%|          | 0/129 [00:00<?, ?batch/s]"
      ]
     },
     "metadata": {},
     "output_type": "display_data"
    },
    {
     "data": {
      "application/vnd.jupyter.widget-view+json": {
       "model_id": "832c54f0802c4bf6ab0753342b7b6b98",
       "version_major": 2,
       "version_minor": 0
      },
      "text/plain": [
       "  0%|          | 0/129 [00:00<?, ?batch/s]"
      ]
     },
     "metadata": {},
     "output_type": "display_data"
    },
    {
     "data": {
      "application/vnd.jupyter.widget-view+json": {
       "model_id": "ba9c20830bd74daca41b907fe3e5d990",
       "version_major": 2,
       "version_minor": 0
      },
      "text/plain": [
       "  0%|          | 0/129 [00:00<?, ?batch/s]"
      ]
     },
     "metadata": {},
     "output_type": "display_data"
    }
   ],
   "source": [
    "# Initialise loss dictionary\n",
    "total_loss = []\n",
    "\n",
    "# Begin training\n",
    "print('Beginning training...\\n')\n",
    "DeviceClassifier.train()\n",
    "\n",
    "# Loop over epochs\n",
    "for epoch in range(N_EPOCHS):\n",
    "    # Running loss containers\n",
    "    running_loss = 0.0\n",
    "\n",
    "    # Loop over batches\n",
    "    with tqdm(train_dataloader, unit=\"batch\") as tepoch: \n",
    "        for batch_idx, (data, label) in enumerate(tepoch):\n",
    "\n",
    "          # Batch tensor and add channel dimension\n",
    "          batch_tensor = data.to(device)\n",
    "          label = label.to(device)\n",
    "          batch_tensor = batch_tensor[:, None, :]\n",
    "\n",
    "          # Compute reconstructions\n",
    "          results = DeviceClassifier(batch_tensor)\n",
    "          results = results.squeeze()\n",
    "          \n",
    "          # Loss\n",
    "          loss = criterion(results, label)\n",
    "\n",
    "          # Backpropagation based on the loss\n",
    "          optimizer.zero_grad()\n",
    "          loss.backward()\n",
    "          optimizer.step()\n",
    "\n",
    "          # Update loss\n",
    "          running_loss += loss.item()\n",
    "\n",
    "          # Log\n",
    "          if batch_idx % 20 == 0:\n",
    "            tepoch.set_description(f\"Epoch {epoch+1}\")\n",
    "            tepoch.set_postfix(loss=loss.item())\n",
    "\n",
    "        # Average epoch loss\n",
    "        total_loss.append(running_loss/batch_idx+1)"
   ]
  },
  {
   "cell_type": "code",
   "execution_count": 13,
   "metadata": {},
   "outputs": [
    {
     "data": {
      "image/png": "[encoded data removed]",
      "text/plain": [
       "<Figure size 1000x500 with 1 Axes>"
      ]
     },
     "metadata": {},
     "output_type": "display_data"
    }
   ],
   "source": [
    "# PLot loss graph\n",
    "plt.figure(figsize=(10,5))\n",
    "x_ticks = list(range(1, len(total_loss)+1))\n",
    "plt.plot(x_ticks, total_loss)\n",
    "plt.ylabel('Epoch Loss')\n",
    "plt.xlabel('Epoch')\n",
    "plt.xticks(x_ticks)\n",
    "plt.title('Loss Curve for Logistic Regressor Training')\n",
    "plt.show()"
   ]
  },
  {
   "cell_type": "markdown",
   "metadata": {},
   "source": [
    "### 3.3 Evaluate model"
   ]
  },
  {
   "cell_type": "code",
   "execution_count": 14,
   "metadata": {},
   "outputs": [
    {
     "data": {
      "image/png": "[encoded data removed]",
      "text/plain": [
       "<Figure size 1200x700 with 2 Axes>"
      ]
     },
     "metadata": {},
     "output_type": "display_data"
    },
    {
     "name": "stdout",
     "output_type": "stream",
     "text": [
      "Performance Metrics for Logistic Regression Model:\n"
     ]
    },
    {
     "data": {
      "text/html": [
       "<div>\n",
       "<style scoped>\n",
       "    .dataframe tbody tr th:only-of-type {\n",
       "        vertical-align: middle;\n",
       "    }\n",
       "\n",
       "    .dataframe tbody tr th {\n",
       "        vertical-align: top;\n",
       "    }\n",
       "\n",
       "    .dataframe thead th {\n",
       "        text-align: right;\n",
       "    }\n",
       "</style>\n",
       "<table border=\"1\" class=\"dataframe\">\n",
       "  <thead>\n",
       "    <tr style=\"text-align: right;\">\n",
       "      <th></th>\n",
       "      <th>ihealth_bpm</th>\n",
       "      <th>viatom_wpo</th>\n",
       "      <th>vivachek_bgm</th>\n",
       "    </tr>\n",
       "  </thead>\n",
       "  <tbody>\n",
       "    <tr>\n",
       "      <th>Precision</th>\n",
       "      <td>0.61</td>\n",
       "      <td>1.00</td>\n",
       "      <td>0.50</td>\n",
       "    </tr>\n",
       "    <tr>\n",
       "      <th>Recall</th>\n",
       "      <td>0.55</td>\n",
       "      <td>0.66</td>\n",
       "      <td>0.57</td>\n",
       "    </tr>\n",
       "    <tr>\n",
       "      <th>F1 Score</th>\n",
       "      <td>0.58</td>\n",
       "      <td>0.80</td>\n",
       "      <td>0.54</td>\n",
       "    </tr>\n",
       "  </tbody>\n",
       "</table>\n",
       "</div>"
      ],
      "text/plain": [
       "           ihealth_bpm  viatom_wpo  vivachek_bgm\n",
       "Precision         0.61        1.00          0.50\n",
       "Recall            0.55        0.66          0.57\n",
       "F1 Score          0.58        0.80          0.54"
      ]
     },
     "metadata": {},
     "output_type": "display_data"
    },
    {
     "name": "stdout",
     "output_type": "stream",
     "text": [
      "Logistic Regression Model accuracy on test set: 56.56%\n"
     ]
    }
   ],
   "source": [
    "# Containers for predictions\n",
    "log_y_pred = []\n",
    "y_true = []\n",
    "\n",
    "# Put model in evaluation mode\n",
    "DeviceClassifier.eval()\n",
    "torch.no_grad()\n",
    "\n",
    "# Loop over test batches\n",
    "for data, labels in test_dataloader:\n",
    "    # Batch tensor and add channel dimension\n",
    "    batch_tensor = data.to(device)\n",
    "    label = label.to(device)\n",
    "    batch_tensor = batch_tensor[:, None, :]\n",
    "\n",
    "    # Obtain model predictions\n",
    "    results = DeviceClassifier(batch_tensor)\n",
    "    results = results.squeeze()\n",
    "\n",
    "    # Save predictions\n",
    "    output = (torch.max(torch.exp(results), 1)[1]).data.cpu().numpy()\n",
    "    log_y_pred.extend(output)\n",
    "\n",
    "    # Unencode labels and save\n",
    "    labels = onehot_encoder.inverse_transform(labels.cpu().numpy())\n",
    "    labels = np.array([x[0] for x in labels])\n",
    "    y_true.extend(labels)\n",
    "\n",
    "# Calculate performance metrics\n",
    "log_y_pred = np.array(log_y_pred)\n",
    "y_true = np.array(y_true)\n",
    "accuracy, performance_df = calculate_metrics(y_true, log_y_pred, model='Logistic Regression')\n",
    "print('Performance Metrics for Logistic Regression Model:')\n",
    "display(performance_df)\n",
    "print(f'Logistic Regression Model accuracy on test set: {accuracy:.2f}%')"
   ]
  },
  {
   "cell_type": "markdown",
   "metadata": {},
   "source": [
    "## **4. Support Vector Machine (SVM)**"
   ]
  },
  {
   "cell_type": "markdown",
   "metadata": {},
   "source": [
    "### 3.1 Define and fit model"
   ]
  },
  {
   "cell_type": "code",
   "execution_count": 15,
   "metadata": {},
   "outputs": [
    {
     "data": {
      "text/html": [
       "<style>#sk-container-id-1 {color: black;background-color: white;}#sk-container-id-1 pre{padding: 0;}#sk-container-id-1 div.sk-toggleable {background-color: white;}#sk-container-id-1 label.sk-toggleable__label {cursor: pointer;display: block;width: 100%;margin-bottom: 0;padding: 0.3em;box-sizing: border-box;text-align: center;}#sk-container-id-1 label.sk-toggleable__label-arrow:before {content: \"▸\";float: left;margin-right: 0.25em;color: #696969;}#sk-container-id-1 label.sk-toggleable__label-arrow:hover:before {color: black;}#sk-container-id-1 div.sk-estimator:hover label.sk-toggleable__label-arrow:before {color: black;}#sk-container-id-1 div.sk-toggleable__content {max-height: 0;max-width: 0;overflow: hidden;text-align: left;background-color: #f0f8ff;}#sk-container-id-1 div.sk-toggleable__content pre {margin: 0.2em;color: black;border-radius: 0.25em;background-color: #f0f8ff;}#sk-container-id-1 input.sk-toggleable__control:checked~div.sk-toggleable__content {max-height: 200px;max-width: 100%;overflow: auto;}#sk-container-id-1 input.sk-toggleable__control:checked~label.sk-toggleable__label-arrow:before {content: \"▾\";}#sk-container-id-1 div.sk-estimator input.sk-toggleable__control:checked~label.sk-toggleable__label {background-color: #d4ebff;}#sk-container-id-1 div.sk-label input.sk-toggleable__control:checked~label.sk-toggleable__label {background-color: #d4ebff;}#sk-container-id-1 input.sk-hidden--visually {border: 0;clip: rect(1px 1px 1px 1px);clip: rect(1px, 1px, 1px, 1px);height: 1px;margin: -1px;overflow: hidden;padding: 0;position: absolute;width: 1px;}#sk-container-id-1 div.sk-estimator {font-family: monospace;background-color: #f0f8ff;border: 1px dotted black;border-radius: 0.25em;box-sizing: border-box;margin-bottom: 0.5em;}#sk-container-id-1 div.sk-estimator:hover {background-color: #d4ebff;}#sk-container-id-1 div.sk-parallel-item::after {content: \"\";width: 100%;border-bottom: 1px solid gray;flex-grow: 1;}#sk-container-id-1 div.sk-label:hover label.sk-toggleable__label {background-color: #d4ebff;}#sk-container-id-1 div.sk-serial::before {content: \"\";position: absolute;border-left: 1px solid gray;box-sizing: border-box;top: 0;bottom: 0;left: 50%;z-index: 0;}#sk-container-id-1 div.sk-serial {display: flex;flex-direction: column;align-items: center;background-color: white;padding-right: 0.2em;padding-left: 0.2em;position: relative;}#sk-container-id-1 div.sk-item {position: relative;z-index: 1;}#sk-container-id-1 div.sk-parallel {display: flex;align-items: stretch;justify-content: center;background-color: white;position: relative;}#sk-container-id-1 div.sk-item::before, #sk-container-id-1 div.sk-parallel-item::before {content: \"\";position: absolute;border-left: 1px solid gray;box-sizing: border-box;top: 0;bottom: 0;left: 50%;z-index: -1;}#sk-container-id-1 div.sk-parallel-item {display: flex;flex-direction: column;z-index: 1;position: relative;background-color: white;}#sk-container-id-1 div.sk-parallel-item:first-child::after {align-self: flex-end;width: 50%;}#sk-container-id-1 div.sk-parallel-item:last-child::after {align-self: flex-start;width: 50%;}#sk-container-id-1 div.sk-parallel-item:only-child::after {width: 0;}#sk-container-id-1 div.sk-dashed-wrapped {border: 1px dashed gray;margin: 0 0.4em 0.5em 0.4em;box-sizing: border-box;padding-bottom: 0.4em;background-color: white;}#sk-container-id-1 div.sk-label label {font-family: monospace;font-weight: bold;display: inline-block;line-height: 1.2em;}#sk-container-id-1 div.sk-label-container {text-align: center;}#sk-container-id-1 div.sk-container {/* jupyter's `normalize.less` sets `[hidden] { display: none; }` but bootstrap.min.css set `[hidden] { display: none !important; }` so we also need the `!important` here to be able to override the default hidden behavior on the sphinx rendered scikit-learn.org. See: https://github.com/scikit-learn/scikit-learn/issues/21755 */display: inline-block !important;position: relative;}#sk-container-id-1 div.sk-text-repr-fallback {display: none;}</style><div id=\"sk-container-id-1\" class=\"sk-top-container\"><div class=\"sk-text-repr-fallback\"><pre>SVC(C=1, kernel=&#x27;linear&#x27;)</pre><b>In a Jupyter environment, please rerun this cell to show the HTML representation or trust the notebook. <br />On GitHub, the HTML representation is unable to render, please try loading this page with nbviewer.org.</b></div><div class=\"sk-container\" hidden><div class=\"sk-item\"><div class=\"sk-estimator sk-toggleable\"><input class=\"sk-toggleable__control sk-hidden--visually\" id=\"sk-estimator-id-1\" type=\"checkbox\" checked><label for=\"sk-estimator-id-1\" class=\"sk-toggleable__label sk-toggleable__label-arrow\">SVC</label><div class=\"sk-toggleable__content\"><pre>SVC(C=1, kernel=&#x27;linear&#x27;)</pre></div></div></div></div></div>"
      ],
      "text/plain": [
       "SVC(C=1, kernel='linear')"
      ]
     },
     "execution_count": 15,
     "metadata": {},
     "output_type": "execute_result"
    }
   ],
   "source": [
    "# Create data arrays\n",
    "X_train = train_data_norm_balanced['Interpacket Timing'].values\n",
    "X_test = test_data_norm['Interpacket Timing'].values\n",
    "y_train = train_data_norm_balanced['Device'].values\n",
    "y_test = test_data_norm['Device'].values\n",
    "\n",
    "# Create an SVM classifier\n",
    "SVMClassifier = svm.SVC(kernel='linear', C=1)\n",
    "\n",
    "# Train the classifier on the training data\n",
    "SVMClassifier.fit(X_train.reshape(-1, 1), y_train)"
   ]
  },
  {
   "cell_type": "markdown",
   "metadata": {},
   "source": [
    "### 3.2 Evaluate model"
   ]
  },
  {
   "cell_type": "code",
   "execution_count": 16,
   "metadata": {},
   "outputs": [
    {
     "data": {
      "image/png": "[encoded data removed]",
      "text/plain": [
       "<Figure size 1200x700 with 2 Axes>"
      ]
     },
     "metadata": {},
     "output_type": "display_data"
    },
    {
     "name": "stdout",
     "output_type": "stream",
     "text": [
      "Performance Metrics for SVM Model:\n"
     ]
    },
    {
     "data": {
      "text/html": [
       "<div>\n",
       "<style scoped>\n",
       "    .dataframe tbody tr th:only-of-type {\n",
       "        vertical-align: middle;\n",
       "    }\n",
       "\n",
       "    .dataframe tbody tr th {\n",
       "        vertical-align: top;\n",
       "    }\n",
       "\n",
       "    .dataframe thead th {\n",
       "        text-align: right;\n",
       "    }\n",
       "</style>\n",
       "<table border=\"1\" class=\"dataframe\">\n",
       "  <thead>\n",
       "    <tr style=\"text-align: right;\">\n",
       "      <th></th>\n",
       "      <th>ihealth_bpm</th>\n",
       "      <th>viatom_wpo</th>\n",
       "      <th>vivachek_bgm</th>\n",
       "    </tr>\n",
       "  </thead>\n",
       "  <tbody>\n",
       "    <tr>\n",
       "      <th>Precision</th>\n",
       "      <td>0.59</td>\n",
       "      <td>1.00</td>\n",
       "      <td>0.51</td>\n",
       "    </tr>\n",
       "    <tr>\n",
       "      <th>Recall</th>\n",
       "      <td>0.66</td>\n",
       "      <td>0.66</td>\n",
       "      <td>0.44</td>\n",
       "    </tr>\n",
       "    <tr>\n",
       "      <th>F1 Score</th>\n",
       "      <td>0.63</td>\n",
       "      <td>0.80</td>\n",
       "      <td>0.47</td>\n",
       "    </tr>\n",
       "  </tbody>\n",
       "</table>\n",
       "</div>"
      ],
      "text/plain": [
       "           ihealth_bpm  viatom_wpo  vivachek_bgm\n",
       "Precision         0.59        1.00          0.51\n",
       "Recall            0.66        0.66          0.44\n",
       "F1 Score          0.63        0.80          0.47"
      ]
     },
     "metadata": {},
     "output_type": "display_data"
    },
    {
     "name": "stdout",
     "output_type": "stream",
     "text": [
      "SVM Model accuracy on test set: 56.80%\n"
     ]
    }
   ],
   "source": [
    "# Make predictions on the test set\n",
    "svm_y_pred = SVMClassifier.predict(X_test.reshape(-1, 1))\n",
    "\n",
    "# Calculate performance metrics\n",
    "svm_y_pred = SVMClassifier.predict(X_test.reshape(-1, 1))\n",
    "y_true = y_test\n",
    "accuracy, performance_df = calculate_metrics(y_true, svm_y_pred, model='SVM')\n",
    "print('Performance Metrics for SVM Model:')\n",
    "display(performance_df)\n",
    "print(f'SVM Model accuracy on test set: {accuracy:.2f}%')"
   ]
  },
  {
   "cell_type": "code",
   "execution_count": null,
   "metadata": {},
   "outputs": [],
   "source": []
  }
 ],
 "metadata": {
  "kernelspec": {
   "display_name": "venv",
   "language": "python",
   "name": "python3"
  },
  "language_info": {
   "codemirror_mode": {
    "name": "ipython",
    "version": 3
   },
   "file_extension": ".py",
   "mimetype": "text/x-python",
   "name": "python",
   "nbconvert_exporter": "python",
   "pygments_lexer": "ipython3",
   "version": "3.8.15"
  },
  "orig_nbformat": 4
 },
 "nbformat": 4,
 "nbformat_minor": 2
}
