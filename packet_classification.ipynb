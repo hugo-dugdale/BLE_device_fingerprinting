{
 "cells": [
  {
   "cell_type": "markdown",
   "metadata": {},
   "source": [
    "# **Packet Classification**"
   ]
  },
  {
   "cell_type": "markdown",
   "metadata": {},
   "source": [
    "Notebook perofmring classification of device packets using time from last packet data."
   ]
  },
  {
   "cell_type": "markdown",
   "metadata": {},
   "source": [
    "## i. Imports"
   ]
  },
  {
   "cell_type": "code",
   "execution_count": 23,
   "metadata": {},
   "outputs": [],
   "source": [
    "import os\n",
    "import gc\n",
    "import sys\n",
    "import csv\n",
    "import torch\n",
    "import numpy as np\n",
    "import pandas as pd\n",
    "import seaborn as sns\n",
    "import matplotlib.pyplot as plt\n",
    "import torch.nn as nn\n",
    "import torch.nn.functional as F\n",
    "from sklearn import svm\n",
    "from sklearn.model_selection import train_test_split, StratifiedKFold\n",
    "from sklearn.preprocessing import OneHotEncoder\n",
    "from sklearn.metrics import confusion_matrix, precision_score, recall_score, f1_score\n",
    "from torch.utils.data import Dataset, DataLoader\n",
    "from tqdm.notebook import tqdm\n",
    "from imblearn.over_sampling import RandomOverSampler"
   ]
  },
  {
   "cell_type": "markdown",
   "metadata": {},
   "source": [
    "## **1. Setup**"
   ]
  },
  {
   "cell_type": "code",
   "execution_count": 24,
   "metadata": {},
   "outputs": [],
   "source": [
    "# Directories\n",
    "BASEDIR = os.getcwd()\n",
    "DATADIR = os.path.join(BASEDIR, 'data')\n",
    "FIGUREDIR = os.path.join(BASEDIR, 'figures')\n",
    "\n",
    "# Devices\n",
    "devices = {'ihealth_bpm': 0, 'viatom_wpo': 1, 'vivachek_bgm': 2}\n",
    "\n",
    "# Colour palette\n",
    "sns.set_palette('deep')\n",
    "\n",
    "# GPU settings\n",
    "device = torch.device(\"cuda\" if torch.cuda.is_available() else \"cpu\")\n",
    "if device.type == 'cuda':\n",
    "    gc.collect()\n",
    "    torch.cuda.empty_cache()\n",
    "\n",
    "# Initialise random seeds\n",
    "random_seed = 14\n",
    "torch.manual_seed(random_seed)\n",
    "np.random.seed(random_seed)\n",
    "\n",
    "# Training hyperparameters\n",
    "N_EPOCHS = 15\n",
    "BATCH_SIZE = 128\n",
    "N_FEATURES = 1\n",
    "N_LABELS = 3\n",
    "LEARNING_RATE = 0.001\n",
    "K_FOLDS = 5"
   ]
  },
  {
   "cell_type": "code",
   "execution_count": 25,
   "metadata": {},
   "outputs": [],
   "source": [
    "# Custom functions\n",
    "def bold(string):\n",
    "    \"\"\"\n",
    "    Make string bold.\n",
    "\n",
    "    Args:\n",
    "        string (str): String to be made bold.\n",
    "\n",
    "    Returns:\n",
    "        str: Bold string.\n",
    "\n",
    "    Raises:\n",
    "        TypeError: If the input is not a string.\n",
    "    \"\"\"\n",
    "    # Check input type\n",
    "    if not isinstance(string, str):\n",
    "        raise TypeError(\"Input must be a string!\")\n",
    "    \n",
    "    return \"\\033[1m\" + string + \"\\033[0m\"\n",
    "\n",
    "    \n",
    "def accuracy(y_true, y_pred):\n",
    "    \"\"\"\n",
    "    Calculate accuracy of predictions\n",
    "    compared to ground truth.\n",
    "\n",
    "    Args:\n",
    "        y_true (np.array): Array of ground truth y values.\n",
    "        y_pred (np.array): Array of y value predictions.\n",
    "\n",
    "    Returns:\n",
    "        float: Accuracy of predictions.\n",
    "    \"\"\"\n",
    "\n",
    "    return 100 * np.sum(y_pred == y_true) / len(y_true)\n",
    "\n",
    "def calculate_metrics(y_true, y_pred, model, return_cm=False):\n",
    "    \"\"\"\n",
    "    Calculate performance metrics and \n",
    "    plot confusion matrix given predictions \n",
    "    and ground truth values.\n",
    "\n",
    "    Args:\n",
    "        y_true (np.array): Array of ground truth y values.\n",
    "        y_pred (np.array): Array of y value predictions.\n",
    "        model (str): Name of model that generated predictions.\n",
    "        return_cm (Bool): Boolean determining if confusion matric data is returned.\n",
    "\n",
    "    Returns:\n",
    "        float: Total model accuracy.\n",
    "        DataFrame: DataFrame of groupwise performance metrics.\n",
    "        DataFrame: Confusion matrix data (optional).\n",
    "    \"\"\"\n",
    "    # Build confusion matrix\n",
    "    cf_matrix = confusion_matrix(y_true, y_pred)\n",
    "    df_cm = pd.DataFrame(cf_matrix / np.sum(cf_matrix, axis=1)[:, None], index = [i for i in devices],\n",
    "                         columns = [c for c in devices])\n",
    "    plt.figure(figsize = (12,7))\n",
    "    plt.title(f'Confusion Matrix between Devices for {model} Model')\n",
    "    sns.heatmap(df_cm, annot=True)\n",
    "    plt.show()\n",
    "\n",
    "    # Calculate performance metrics\n",
    "    model_accuracy = accuracy(y_true, y_pred)\n",
    "    precision = np.round(precision_score(y_true, y_pred, average=None), 2)\n",
    "    recall = np.round(recall_score(y_true, y_pred, average=None), 2)\n",
    "    f1 = np.round(f1_score(y_true, y_pred, average=None), 2)\n",
    "\n",
    "    # Create perfromance table\n",
    "    res_df = pd.DataFrame([precision, recall, f1],\n",
    "                           columns=devices.keys(),\n",
    "                           index=['Precision', 'Recall', 'F1 Score'])\n",
    "\n",
    "    # Return\n",
    "    if return_cm:\n",
    "        return model_accuracy, res_df, df_cm \n",
    "    else:\n",
    "        return model_accuracy, res_df\n",
    "\n",
    "def loss_curve(total_loss, fold, figsize=(8,4)):\n",
    "    \"\"\"\n",
    "    Plot loss curve for\n",
    "    a set of epochs.\n",
    "\n",
    "    Args:\n",
    "        total_loss (np.array): Array of total loss at every epoch.\n",
    "        figsize (tuple(int, int)): Figure size.\n",
    "    \"\"\"\n",
    "    plt.figure(figsize=figsize)\n",
    "    x_ticks = list(range(1, len(total_loss)+1))\n",
    "    plt.plot(x_ticks, total_loss)\n",
    "    plt.ylabel('Epoch Loss')\n",
    "    plt.xlabel('Epoch')\n",
    "    plt.xticks(x_ticks)\n",
    "    plt.title(f'Loss Curve for Fold {fold}')\n",
    "    plt.show()"
   ]
  },
  {
   "cell_type": "markdown",
   "metadata": {},
   "source": [
    "## **2. Load data**"
   ]
  },
  {
   "cell_type": "markdown",
   "metadata": {},
   "source": [
    "### 2.1 Load data from CSV"
   ]
  },
  {
   "cell_type": "code",
   "execution_count": 26,
   "metadata": {},
   "outputs": [],
   "source": [
    "# CSV file into pandas\n",
    "interpacket_csv = os.path.join(DATADIR, 'inter_packet_timings.csv')\n",
    "data_df = pd.read_csv(interpacket_csv)"
   ]
  },
  {
   "cell_type": "markdown",
   "metadata": {},
   "source": [
    "### 2.2 Prepare data for model training"
   ]
  },
  {
   "cell_type": "code",
   "execution_count": 27,
   "metadata": {},
   "outputs": [],
   "source": [
    "class CustomDataset(Dataset):\n",
    "    \"\"\"\n",
    "    Custom PyTorch Dataset \n",
    "    for time data.\n",
    "\n",
    "    Attributes:\n",
    "        data_array (array): NumPy array of data.\n",
    "    \"\"\"\n",
    "\n",
    "    def __init__(self, data_array):\n",
    "        self.data_array = data_array\n",
    "\n",
    "    def __len__(self):\n",
    "        return len(self.data_array)\n",
    "    \n",
    "    def __getitem__(self, idx):\n",
    "        # Convert item to tensor\n",
    "        if torch.is_tensor(idx):\n",
    "            idx = idx.tolist()\n",
    "        \n",
    "        # Obtain sample and subject\n",
    "        sample = self.data_array[idx]\n",
    "        sample = torch.Tensor(sample)\n",
    "        label = sample[-1]\n",
    "        sample = sample[:-1]\n",
    "        sample = torch.Tensor(sample)\n",
    "\n",
    "        # Obtain label and encode\n",
    "        label = onehot_encoder.transform([[label]])[0]\n",
    "\n",
    "        return sample, label"
   ]
  },
  {
   "cell_type": "code",
   "execution_count": 28,
   "metadata": {},
   "outputs": [],
   "source": [
    "# Split into training and test\n",
    "[train_data, test_data] = train_test_split(data_df)\n",
    "\n",
    "# Replace devices with numeric mapping\n",
    "train_data.replace({'Device': devices}, inplace=True)\n",
    "test_data.replace({'Device': devices}, inplace=True)\n",
    "\n",
    "# Normalise data\n",
    "train_temp_columns = train_data.iloc[:, -1]\n",
    "test_temp_columns = test_data.iloc[:, -1]\n",
    "train_data_norm = train_data.iloc[:, 0]\n",
    "test_data_norm = test_data.iloc[:, 0]\n",
    "train_data_norm = (train_data_norm-train_data_norm.mean())/train_data_norm.std()\n",
    "test_data_norm = (test_data_norm-test_data_norm.mean())/test_data_norm.std()\n",
    "train_data_norm = pd.concat([train_data_norm, train_temp_columns], axis=1)\n",
    "test_data_norm = pd.concat([test_data_norm, test_temp_columns], axis=1)"
   ]
  },
  {
   "cell_type": "code",
   "execution_count": 29,
   "metadata": {},
   "outputs": [
    {
     "name": "stdout",
     "output_type": "stream",
     "text": [
      "Training samples from ihealth_bpm - 5477\n",
      "Training samples from viatom_wpo - 263\n",
      "Training samples from vivachek_bgm - 4389\n",
      "\n",
      "Training samples from ihealth_bpm after oversampling - 5477\n",
      "Training samples from viatom_wpo after oversampling - 5477\n",
      "Training samples from vivachek_bgm after oversampling - 5477\n",
      "\n"
     ]
    }
   ],
   "source": [
    "# Check balance within the training dataset\n",
    "counts = train_data_norm['Device'].value_counts()\n",
    "for d, v in devices.items():\n",
    "    print(f'Training samples from {d} - {counts[v]}')\n",
    "print('')\n",
    "\n",
    "# Balance data using over sampling\n",
    "over_sampler = RandomOverSampler()\n",
    "X_res, y_res = over_sampler.fit_resample(train_data_norm['Interpacket Timing'].values.reshape(-1, 1),\n",
    "                                         train_data_norm['Device'].values)\n",
    "train_data_norm_balanced = pd.DataFrame({'Interpacket Timing': np.squeeze(X_res),\n",
    "                                         'Device': y_res})\n",
    "    \n",
    "# Check balance within the oversampled training dataset\n",
    "counts = train_data_norm_balanced['Device'].value_counts()\n",
    "for d, v in devices.items():\n",
    "    print(f'Training samples from {d} after oversampling - {counts[v]}')\n",
    "print('')"
   ]
  },
  {
   "cell_type": "code",
   "execution_count": 30,
   "metadata": {},
   "outputs": [
    {
     "name": "stdout",
     "output_type": "stream",
     "text": [
      "Training data points: 16431\n",
      "Test data points: 3377\n"
     ]
    }
   ],
   "source": [
    "# Fit onehot encoder\n",
    "onehot_encoder = OneHotEncoder(sparse_output=False)\n",
    "train_labels = train_data_norm_balanced['Device'].values\n",
    "train_labels = train_labels.reshape(len(train_labels), 1)\n",
    "onehot_encoder.fit(train_labels)\n",
    "\n",
    "# Print some statistics\n",
    "print(f'Training data points: {train_data_norm_balanced.shape[0]}')\n",
    "print(f'Test data points: {test_data_norm.shape[0]}')"
   ]
  },
  {
   "cell_type": "code",
   "execution_count": 31,
   "metadata": {},
   "outputs": [],
   "source": [
    "# Create Datasets\n",
    "train_dataset = CustomDataset(train_data_norm_balanced.to_numpy())\n",
    "test_dataset = CustomDataset(test_data_norm.to_numpy())\n",
    "\n",
    "# Create test DataLoader\n",
    "test_dataloader = DataLoader(test_dataset, batch_size=BATCH_SIZE,\n",
    "                             shuffle=True, num_workers=0)"
   ]
  },
  {
   "cell_type": "markdown",
   "metadata": {},
   "source": [
    "## **3. Logistic regression**"
   ]
  },
  {
   "cell_type": "markdown",
   "metadata": {},
   "source": [
    "### 3.1 Define model"
   ]
  },
  {
   "cell_type": "code",
   "execution_count": 32,
   "metadata": {},
   "outputs": [
    {
     "name": "stdout",
     "output_type": "stream",
     "text": [
      "Total number of parameters for the classifier: 6\n",
      "\n",
      "Classifier architecture:\n",
      "LogisticRegression(\n",
      "  (linear): Linear(in_features=1, out_features=3, bias=True)\n",
      ")\n"
     ]
    }
   ],
   "source": [
    "# Logisitc regression model\n",
    "class LogisticRegression(nn.Module):\n",
    "    def __init__(self, in_features, out_labels):\n",
    "        super(LogisticRegression, self).__init__()\n",
    "        self.linear = nn.Linear(in_features, out_labels)\n",
    "\n",
    "    def forward(self, x):\n",
    "        outputs = self.linear(x)\n",
    "        return outputs\n",
    "\n",
    "# Model structure\n",
    "DeviceClassifier = LogisticRegression(in_features=N_FEATURES, out_labels=N_LABELS).to(device)\n",
    "params = sum(p.numel() for p in DeviceClassifier.parameters() if p.requires_grad)\n",
    "print(\"Total number of parameters for the classifier: {}\\n\".format(params))\n",
    "print(\"Classifier architecture:\")\n",
    "print(DeviceClassifier)"
   ]
  },
  {
   "cell_type": "markdown",
   "metadata": {},
   "source": [
    "### 3.2 Train model"
   ]
  },
  {
   "cell_type": "code",
   "execution_count": 33,
   "metadata": {},
   "outputs": [
    {
     "name": "stdout",
     "output_type": "stream",
     "text": [
      "Beginning training\n",
      "\n",
      "Fold 1/5\n"
     ]
    },
    {
     "data": {
      "application/vnd.jupyter.widget-view+json": {
       "model_id": "747bfbe052214d4087628ec98ae521ad",
       "version_major": 2,
       "version_minor": 0
      },
      "text/plain": [
       "  0%|          | 0/103 [00:00<?, ?batch/s]"
      ]
     },
     "metadata": {},
     "output_type": "display_data"
    },
    {
     "data": {
      "application/vnd.jupyter.widget-view+json": {
       "model_id": "af4bb9d439ee4b41aa1e8c1840b1369d",
       "version_major": 2,
       "version_minor": 0
      },
      "text/plain": [
       "  0%|          | 0/103 [00:00<?, ?batch/s]"
      ]
     },
     "metadata": {},
     "output_type": "display_data"
    },
    {
     "data": {
      "application/vnd.jupyter.widget-view+json": {
       "model_id": "8239c3ab03a34bb482277977b2bc30f9",
       "version_major": 2,
       "version_minor": 0
      },
      "text/plain": [
       "  0%|          | 0/103 [00:00<?, ?batch/s]"
      ]
     },
     "metadata": {},
     "output_type": "display_data"
    },
    {
     "data": {
      "application/vnd.jupyter.widget-view+json": {
       "model_id": "e074d58ec403427eb60bdaca875a2c55",
       "version_major": 2,
       "version_minor": 0
      },
      "text/plain": [
       "  0%|          | 0/103 [00:00<?, ?batch/s]"
      ]
     },
     "metadata": {},
     "output_type": "display_data"
    },
    {
     "data": {
      "application/vnd.jupyter.widget-view+json": {
       "model_id": "c36dd7318693481892ddfeaff142cb8f",
       "version_major": 2,
       "version_minor": 0
      },
      "text/plain": [
       "  0%|          | 0/103 [00:00<?, ?batch/s]"
      ]
     },
     "metadata": {},
     "output_type": "display_data"
    },
    {
     "data": {
      "application/vnd.jupyter.widget-view+json": {
       "model_id": "82e016a2eb294606a3cb35506663620f",
       "version_major": 2,
       "version_minor": 0
      },
      "text/plain": [
       "  0%|          | 0/103 [00:00<?, ?batch/s]"
      ]
     },
     "metadata": {},
     "output_type": "display_data"
    },
    {
     "data": {
      "application/vnd.jupyter.widget-view+json": {
       "model_id": "ee6c207aaef947a5a9539df197c5646c",
       "version_major": 2,
       "version_minor": 0
      },
      "text/plain": [
       "  0%|          | 0/103 [00:00<?, ?batch/s]"
      ]
     },
     "metadata": {},
     "output_type": "display_data"
    },
    {
     "data": {
      "application/vnd.jupyter.widget-view+json": {
       "model_id": "c1cd8bc6ba244d69bba61866351a1887",
       "version_major": 2,
       "version_minor": 0
      },
      "text/plain": [
       "  0%|          | 0/103 [00:00<?, ?batch/s]"
      ]
     },
     "metadata": {},
     "output_type": "display_data"
    },
    {
     "data": {
      "application/vnd.jupyter.widget-view+json": {
       "model_id": "17d3ac15341d40c48fa7c24a9108769b",
       "version_major": 2,
       "version_minor": 0
      },
      "text/plain": [
       "  0%|          | 0/103 [00:00<?, ?batch/s]"
      ]
     },
     "metadata": {},
     "output_type": "display_data"
    },
    {
     "data": {
      "application/vnd.jupyter.widget-view+json": {
       "model_id": "1ea8ab95bac6480fa70a9779689ecdc4",
       "version_major": 2,
       "version_minor": 0
      },
      "text/plain": [
       "  0%|          | 0/103 [00:00<?, ?batch/s]"
      ]
     },
     "metadata": {},
     "output_type": "display_data"
    },
    {
     "data": {
      "application/vnd.jupyter.widget-view+json": {
       "model_id": "7469830139584218be2cb5fe01a45ca3",
       "version_major": 2,
       "version_minor": 0
      },
      "text/plain": [
       "  0%|          | 0/103 [00:00<?, ?batch/s]"
      ]
     },
     "metadata": {},
     "output_type": "display_data"
    },
    {
     "data": {
      "application/vnd.jupyter.widget-view+json": {
       "model_id": "b400047731df4e73a01c21d3922e558f",
       "version_major": 2,
       "version_minor": 0
      },
      "text/plain": [
       "  0%|          | 0/103 [00:00<?, ?batch/s]"
      ]
     },
     "metadata": {},
     "output_type": "display_data"
    },
    {
     "data": {
      "application/vnd.jupyter.widget-view+json": {
       "model_id": "7fa8d1e07a194bb0be207f6b52aadc90",
       "version_major": 2,
       "version_minor": 0
      },
      "text/plain": [
       "  0%|          | 0/103 [00:00<?, ?batch/s]"
      ]
     },
     "metadata": {},
     "output_type": "display_data"
    },
    {
     "data": {
      "application/vnd.jupyter.widget-view+json": {
       "model_id": "78415d14e9ec490e98ffb1ebfe7fb2ec",
       "version_major": 2,
       "version_minor": 0
      },
      "text/plain": [
       "  0%|          | 0/103 [00:00<?, ?batch/s]"
      ]
     },
     "metadata": {},
     "output_type": "display_data"
    },
    {
     "data": {
      "application/vnd.jupyter.widget-view+json": {
       "model_id": "daca9072bce74aa5aadf15222666844e",
       "version_major": 2,
       "version_minor": 0
      },
      "text/plain": [
       "  0%|          | 0/103 [00:00<?, ?batch/s]"
      ]
     },
     "metadata": {},
     "output_type": "display_data"
    },
    {
     "name": "stdout",
     "output_type": "stream",
     "text": [
      "Loss curve:\n"
     ]
    },
    {
     "data": {
      "image/png": "[encoded data removed]",
      "text/plain": [
       "<Figure size 800x400 with 1 Axes>"
      ]
     },
     "metadata": {},
     "output_type": "display_data"
    },
    {
     "name": "stdout",
     "output_type": "stream",
     "text": [
      "Accuracy on validation set 61.09%\n",
      "\n",
      "Fold 2/5\n"
     ]
    },
    {
     "data": {
      "application/vnd.jupyter.widget-view+json": {
       "model_id": "da17c6a7a7734898951c29242068bd61",
       "version_major": 2,
       "version_minor": 0
      },
      "text/plain": [
       "  0%|          | 0/103 [00:00<?, ?batch/s]"
      ]
     },
     "metadata": {},
     "output_type": "display_data"
    },
    {
     "data": {
      "application/vnd.jupyter.widget-view+json": {
       "model_id": "21d140b47e074152b790670c65849cdc",
       "version_major": 2,
       "version_minor": 0
      },
      "text/plain": [
       "  0%|          | 0/103 [00:00<?, ?batch/s]"
      ]
     },
     "metadata": {},
     "output_type": "display_data"
    },
    {
     "data": {
      "application/vnd.jupyter.widget-view+json": {
       "model_id": "24d3fa872d0c4291bcf748393be9d009",
       "version_major": 2,
       "version_minor": 0
      },
      "text/plain": [
       "  0%|          | 0/103 [00:00<?, ?batch/s]"
      ]
     },
     "metadata": {},
     "output_type": "display_data"
    },
    {
     "data": {
      "application/vnd.jupyter.widget-view+json": {
       "model_id": "913c2453cc3243a8862acebebbdbcab2",
       "version_major": 2,
       "version_minor": 0
      },
      "text/plain": [
       "  0%|          | 0/103 [00:00<?, ?batch/s]"
      ]
     },
     "metadata": {},
     "output_type": "display_data"
    },
    {
     "data": {
      "application/vnd.jupyter.widget-view+json": {
       "model_id": "d18767ea20a14b1c959fd34f557c4fe9",
       "version_major": 2,
       "version_minor": 0
      },
      "text/plain": [
       "  0%|          | 0/103 [00:00<?, ?batch/s]"
      ]
     },
     "metadata": {},
     "output_type": "display_data"
    },
    {
     "data": {
      "application/vnd.jupyter.widget-view+json": {
       "model_id": "45d39f2eb1564915bca69fe6c20f16da",
       "version_major": 2,
       "version_minor": 0
      },
      "text/plain": [
       "  0%|          | 0/103 [00:00<?, ?batch/s]"
      ]
     },
     "metadata": {},
     "output_type": "display_data"
    },
    {
     "data": {
      "application/vnd.jupyter.widget-view+json": {
       "model_id": "1e164f1466a7462db302b9194750f5aa",
       "version_major": 2,
       "version_minor": 0
      },
      "text/plain": [
       "  0%|          | 0/103 [00:00<?, ?batch/s]"
      ]
     },
     "metadata": {},
     "output_type": "display_data"
    },
    {
     "data": {
      "application/vnd.jupyter.widget-view+json": {
       "model_id": "d699f66fadfd4b6fbfb56b90ef76fd14",
       "version_major": 2,
       "version_minor": 0
      },
      "text/plain": [
       "  0%|          | 0/103 [00:00<?, ?batch/s]"
      ]
     },
     "metadata": {},
     "output_type": "display_data"
    },
    {
     "data": {
      "application/vnd.jupyter.widget-view+json": {
       "model_id": "b75ecf84ed004566b8e2bcb23cc7818c",
       "version_major": 2,
       "version_minor": 0
      },
      "text/plain": [
       "  0%|          | 0/103 [00:00<?, ?batch/s]"
      ]
     },
     "metadata": {},
     "output_type": "display_data"
    },
    {
     "data": {
      "application/vnd.jupyter.widget-view+json": {
       "model_id": "5088a3a5fb3b41f2a2bbcfd67e61ad66",
       "version_major": 2,
       "version_minor": 0
      },
      "text/plain": [
       "  0%|          | 0/103 [00:00<?, ?batch/s]"
      ]
     },
     "metadata": {},
     "output_type": "display_data"
    },
    {
     "data": {
      "application/vnd.jupyter.widget-view+json": {
       "model_id": "6e9e19be59ec42b89d754b011afa18e5",
       "version_major": 2,
       "version_minor": 0
      },
      "text/plain": [
       "  0%|          | 0/103 [00:00<?, ?batch/s]"
      ]
     },
     "metadata": {},
     "output_type": "display_data"
    },
    {
     "data": {
      "application/vnd.jupyter.widget-view+json": {
       "model_id": "3196ce6310a1429ab8d958015b7eaa95",
       "version_major": 2,
       "version_minor": 0
      },
      "text/plain": [
       "  0%|          | 0/103 [00:00<?, ?batch/s]"
      ]
     },
     "metadata": {},
     "output_type": "display_data"
    },
    {
     "data": {
      "application/vnd.jupyter.widget-view+json": {
       "model_id": "23cccef5416c4b57bafad9e2205af722",
       "version_major": 2,
       "version_minor": 0
      },
      "text/plain": [
       "  0%|          | 0/103 [00:00<?, ?batch/s]"
      ]
     },
     "metadata": {},
     "output_type": "display_data"
    },
    {
     "data": {
      "application/vnd.jupyter.widget-view+json": {
       "model_id": "bb0fb523eec44dd0883c076cf9ba644f",
       "version_major": 2,
       "version_minor": 0
      },
      "text/plain": [
       "  0%|          | 0/103 [00:00<?, ?batch/s]"
      ]
     },
     "metadata": {},
     "output_type": "display_data"
    },
    {
     "data": {
      "application/vnd.jupyter.widget-view+json": {
       "model_id": "c32e7833218841e097f1e0e517102373",
       "version_major": 2,
       "version_minor": 0
      },
      "text/plain": [
       "  0%|          | 0/103 [00:00<?, ?batch/s]"
      ]
     },
     "metadata": {},
     "output_type": "display_data"
    },
    {
     "name": "stdout",
     "output_type": "stream",
     "text": [
      "Loss curve:\n"
     ]
    },
    {
     "data": {
      "image/png": "[encoded data removed]",
      "text/plain": [
       "<Figure size 800x400 with 1 Axes>"
      ]
     },
     "metadata": {},
     "output_type": "display_data"
    },
    {
     "name": "stdout",
     "output_type": "stream",
     "text": [
      "Accuracy on validation set 58.70%\n",
      "\n",
      "Fold 3/5\n"
     ]
    },
    {
     "data": {
      "application/vnd.jupyter.widget-view+json": {
       "model_id": "cfd8eea0f1d1445b95554430108c6839",
       "version_major": 2,
       "version_minor": 0
      },
      "text/plain": [
       "  0%|          | 0/103 [00:00<?, ?batch/s]"
      ]
     },
     "metadata": {},
     "output_type": "display_data"
    },
    {
     "data": {
      "application/vnd.jupyter.widget-view+json": {
       "model_id": "042d88c9d314454d85234f9a71c1f3f7",
       "version_major": 2,
       "version_minor": 0
      },
      "text/plain": [
       "  0%|          | 0/103 [00:00<?, ?batch/s]"
      ]
     },
     "metadata": {},
     "output_type": "display_data"
    },
    {
     "data": {
      "application/vnd.jupyter.widget-view+json": {
       "model_id": "16c7cc7bad074b8f9aa41b106aac619a",
       "version_major": 2,
       "version_minor": 0
      },
      "text/plain": [
       "  0%|          | 0/103 [00:00<?, ?batch/s]"
      ]
     },
     "metadata": {},
     "output_type": "display_data"
    },
    {
     "data": {
      "application/vnd.jupyter.widget-view+json": {
       "model_id": "1182577a86724a61b8b9f622051be09c",
       "version_major": 2,
       "version_minor": 0
      },
      "text/plain": [
       "  0%|          | 0/103 [00:00<?, ?batch/s]"
      ]
     },
     "metadata": {},
     "output_type": "display_data"
    },
    {
     "data": {
      "application/vnd.jupyter.widget-view+json": {
       "model_id": "1c0817c5955347d2a1211b09d0459ff1",
       "version_major": 2,
       "version_minor": 0
      },
      "text/plain": [
       "  0%|          | 0/103 [00:00<?, ?batch/s]"
      ]
     },
     "metadata": {},
     "output_type": "display_data"
    },
    {
     "data": {
      "application/vnd.jupyter.widget-view+json": {
       "model_id": "93e14b70deea445083fcf9ebe9e4c5a2",
       "version_major": 2,
       "version_minor": 0
      },
      "text/plain": [
       "  0%|          | 0/103 [00:00<?, ?batch/s]"
      ]
     },
     "metadata": {},
     "output_type": "display_data"
    },
    {
     "data": {
      "application/vnd.jupyter.widget-view+json": {
       "model_id": "8e5bfaa105374e9e8154a15fa4786bb3",
       "version_major": 2,
       "version_minor": 0
      },
      "text/plain": [
       "  0%|          | 0/103 [00:00<?, ?batch/s]"
      ]
     },
     "metadata": {},
     "output_type": "display_data"
    },
    {
     "data": {
      "application/vnd.jupyter.widget-view+json": {
       "model_id": "67a71d161cf047b3ad0cf9abf53cdac1",
       "version_major": 2,
       "version_minor": 0
      },
      "text/plain": [
       "  0%|          | 0/103 [00:00<?, ?batch/s]"
      ]
     },
     "metadata": {},
     "output_type": "display_data"
    },
    {
     "data": {
      "application/vnd.jupyter.widget-view+json": {
       "model_id": "9bc7f88feefe4f31bab47162007894dd",
       "version_major": 2,
       "version_minor": 0
      },
      "text/plain": [
       "  0%|          | 0/103 [00:00<?, ?batch/s]"
      ]
     },
     "metadata": {},
     "output_type": "display_data"
    },
    {
     "data": {
      "application/vnd.jupyter.widget-view+json": {
       "model_id": "8480fa50fbb54c129709bd3db8eb6ad9",
       "version_major": 2,
       "version_minor": 0
      },
      "text/plain": [
       "  0%|          | 0/103 [00:00<?, ?batch/s]"
      ]
     },
     "metadata": {},
     "output_type": "display_data"
    },
    {
     "data": {
      "application/vnd.jupyter.widget-view+json": {
       "model_id": "35fe689a23374ea6a094ffd1ce958904",
       "version_major": 2,
       "version_minor": 0
      },
      "text/plain": [
       "  0%|          | 0/103 [00:00<?, ?batch/s]"
      ]
     },
     "metadata": {},
     "output_type": "display_data"
    },
    {
     "data": {
      "application/vnd.jupyter.widget-view+json": {
       "model_id": "19149d03092f4c50b9de63531a1816ad",
       "version_major": 2,
       "version_minor": 0
      },
      "text/plain": [
       "  0%|          | 0/103 [00:00<?, ?batch/s]"
      ]
     },
     "metadata": {},
     "output_type": "display_data"
    },
    {
     "data": {
      "application/vnd.jupyter.widget-view+json": {
       "model_id": "bfd5f53033ea40cdbd59df7a042e9ad1",
       "version_major": 2,
       "version_minor": 0
      },
      "text/plain": [
       "  0%|          | 0/103 [00:00<?, ?batch/s]"
      ]
     },
     "metadata": {},
     "output_type": "display_data"
    },
    {
     "data": {
      "application/vnd.jupyter.widget-view+json": {
       "model_id": "1ff492a5ede449dfb881b01772638883",
       "version_major": 2,
       "version_minor": 0
      },
      "text/plain": [
       "  0%|          | 0/103 [00:00<?, ?batch/s]"
      ]
     },
     "metadata": {},
     "output_type": "display_data"
    },
    {
     "data": {
      "application/vnd.jupyter.widget-view+json": {
       "model_id": "186560ac78a840e5962c7c9c0186f302",
       "version_major": 2,
       "version_minor": 0
      },
      "text/plain": [
       "  0%|          | 0/103 [00:00<?, ?batch/s]"
      ]
     },
     "metadata": {},
     "output_type": "display_data"
    },
    {
     "name": "stdout",
     "output_type": "stream",
     "text": [
      "Loss curve:\n"
     ]
    },
    {
     "data": {
      "image/png": "[encoded data removed]",
      "text/plain": [
       "<Figure size 800x400 with 1 Axes>"
      ]
     },
     "metadata": {},
     "output_type": "display_data"
    },
    {
     "name": "stdout",
     "output_type": "stream",
     "text": [
      "Accuracy on validation set 61.63%\n",
      "\n",
      "Fold 4/5\n"
     ]
    },
    {
     "data": {
      "application/vnd.jupyter.widget-view+json": {
       "model_id": "0394dc2becbb4ce5910b2ca56fc62b02",
       "version_major": 2,
       "version_minor": 0
      },
      "text/plain": [
       "  0%|          | 0/103 [00:00<?, ?batch/s]"
      ]
     },
     "metadata": {},
     "output_type": "display_data"
    },
    {
     "data": {
      "application/vnd.jupyter.widget-view+json": {
       "model_id": "54be5506b5c14a008302489ab4e92942",
       "version_major": 2,
       "version_minor": 0
      },
      "text/plain": [
       "  0%|          | 0/103 [00:00<?, ?batch/s]"
      ]
     },
     "metadata": {},
     "output_type": "display_data"
    },
    {
     "data": {
      "application/vnd.jupyter.widget-view+json": {
       "model_id": "928d2715b9944633abfbc985371c27dc",
       "version_major": 2,
       "version_minor": 0
      },
      "text/plain": [
       "  0%|          | 0/103 [00:00<?, ?batch/s]"
      ]
     },
     "metadata": {},
     "output_type": "display_data"
    },
    {
     "data": {
      "application/vnd.jupyter.widget-view+json": {
       "model_id": "efd6a01559f24300a341c2eda533f4f7",
       "version_major": 2,
       "version_minor": 0
      },
      "text/plain": [
       "  0%|          | 0/103 [00:00<?, ?batch/s]"
      ]
     },
     "metadata": {},
     "output_type": "display_data"
    },
    {
     "data": {
      "application/vnd.jupyter.widget-view+json": {
       "model_id": "f4bfc13f976d4fa89842d940498b6c39",
       "version_major": 2,
       "version_minor": 0
      },
      "text/plain": [
       "  0%|          | 0/103 [00:00<?, ?batch/s]"
      ]
     },
     "metadata": {},
     "output_type": "display_data"
    },
    {
     "data": {
      "application/vnd.jupyter.widget-view+json": {
       "model_id": "1f6a90f60ae54e3b9e5dd280340e47b1",
       "version_major": 2,
       "version_minor": 0
      },
      "text/plain": [
       "  0%|          | 0/103 [00:00<?, ?batch/s]"
      ]
     },
     "metadata": {},
     "output_type": "display_data"
    },
    {
     "data": {
      "application/vnd.jupyter.widget-view+json": {
       "model_id": "f77a7c41395d4ddfbfc469ce3d14c46f",
       "version_major": 2,
       "version_minor": 0
      },
      "text/plain": [
       "  0%|          | 0/103 [00:00<?, ?batch/s]"
      ]
     },
     "metadata": {},
     "output_type": "display_data"
    },
    {
     "data": {
      "application/vnd.jupyter.widget-view+json": {
       "model_id": "69e3d0ab71314f33abf6bda4dc19a6b8",
       "version_major": 2,
       "version_minor": 0
      },
      "text/plain": [
       "  0%|          | 0/103 [00:00<?, ?batch/s]"
      ]
     },
     "metadata": {},
     "output_type": "display_data"
    },
    {
     "data": {
      "application/vnd.jupyter.widget-view+json": {
       "model_id": "bffb55a03c1c43c696d54bd7e22adaf9",
       "version_major": 2,
       "version_minor": 0
      },
      "text/plain": [
       "  0%|          | 0/103 [00:00<?, ?batch/s]"
      ]
     },
     "metadata": {},
     "output_type": "display_data"
    },
    {
     "data": {
      "application/vnd.jupyter.widget-view+json": {
       "model_id": "dd771852e9144e84a52f152817f723df",
       "version_major": 2,
       "version_minor": 0
      },
      "text/plain": [
       "  0%|          | 0/103 [00:00<?, ?batch/s]"
      ]
     },
     "metadata": {},
     "output_type": "display_data"
    },
    {
     "data": {
      "application/vnd.jupyter.widget-view+json": {
       "model_id": "a7ae96cae1b148f0aa1270ee4eaa1007",
       "version_major": 2,
       "version_minor": 0
      },
      "text/plain": [
       "  0%|          | 0/103 [00:00<?, ?batch/s]"
      ]
     },
     "metadata": {},
     "output_type": "display_data"
    },
    {
     "data": {
      "application/vnd.jupyter.widget-view+json": {
       "model_id": "d2921a6bd60d42bbad59bf34d5dfb10b",
       "version_major": 2,
       "version_minor": 0
      },
      "text/plain": [
       "  0%|          | 0/103 [00:00<?, ?batch/s]"
      ]
     },
     "metadata": {},
     "output_type": "display_data"
    },
    {
     "data": {
      "application/vnd.jupyter.widget-view+json": {
       "model_id": "09d5709a3c6c48f08d677c39bde056e2",
       "version_major": 2,
       "version_minor": 0
      },
      "text/plain": [
       "  0%|          | 0/103 [00:00<?, ?batch/s]"
      ]
     },
     "metadata": {},
     "output_type": "display_data"
    },
    {
     "data": {
      "application/vnd.jupyter.widget-view+json": {
       "model_id": "b92031890df74375b6aa326aa647f8a6",
       "version_major": 2,
       "version_minor": 0
      },
      "text/plain": [
       "  0%|          | 0/103 [00:00<?, ?batch/s]"
      ]
     },
     "metadata": {},
     "output_type": "display_data"
    },
    {
     "data": {
      "application/vnd.jupyter.widget-view+json": {
       "model_id": "f31ef088cf7a47e3af8313565c39b4f6",
       "version_major": 2,
       "version_minor": 0
      },
      "text/plain": [
       "  0%|          | 0/103 [00:00<?, ?batch/s]"
      ]
     },
     "metadata": {},
     "output_type": "display_data"
    },
    {
     "name": "stdout",
     "output_type": "stream",
     "text": [
      "Loss curve:\n"
     ]
    },
    {
     "data": {
      "image/png": "[encoded data removed]",
      "text/plain": [
       "<Figure size 800x400 with 1 Axes>"
      ]
     },
     "metadata": {},
     "output_type": "display_data"
    },
    {
     "name": "stdout",
     "output_type": "stream",
     "text": [
      "Accuracy on validation set 60.41%\n",
      "\n",
      "Fold 5/5\n"
     ]
    },
    {
     "data": {
      "application/vnd.jupyter.widget-view+json": {
       "model_id": "3ed82764648d48ff86a244d290dd7621",
       "version_major": 2,
       "version_minor": 0
      },
      "text/plain": [
       "  0%|          | 0/103 [00:00<?, ?batch/s]"
      ]
     },
     "metadata": {},
     "output_type": "display_data"
    },
    {
     "data": {
      "application/vnd.jupyter.widget-view+json": {
       "model_id": "50297cea8d2b4359b667fa0456f97dee",
       "version_major": 2,
       "version_minor": 0
      },
      "text/plain": [
       "  0%|          | 0/103 [00:00<?, ?batch/s]"
      ]
     },
     "metadata": {},
     "output_type": "display_data"
    },
    {
     "data": {
      "application/vnd.jupyter.widget-view+json": {
       "model_id": "b7275f4932e54a609b13503ff9479a49",
       "version_major": 2,
       "version_minor": 0
      },
      "text/plain": [
       "  0%|          | 0/103 [00:00<?, ?batch/s]"
      ]
     },
     "metadata": {},
     "output_type": "display_data"
    },
    {
     "data": {
      "application/vnd.jupyter.widget-view+json": {
       "model_id": "2dd9253f20d84b699a301226a92bd38c",
       "version_major": 2,
       "version_minor": 0
      },
      "text/plain": [
       "  0%|          | 0/103 [00:00<?, ?batch/s]"
      ]
     },
     "metadata": {},
     "output_type": "display_data"
    },
    {
     "data": {
      "application/vnd.jupyter.widget-view+json": {
       "model_id": "4dd36ee8b5374e879096da2aaa916995",
       "version_major": 2,
       "version_minor": 0
      },
      "text/plain": [
       "  0%|          | 0/103 [00:00<?, ?batch/s]"
      ]
     },
     "metadata": {},
     "output_type": "display_data"
    },
    {
     "data": {
      "application/vnd.jupyter.widget-view+json": {
       "model_id": "b0cbab38781d42f2883f476c111127cd",
       "version_major": 2,
       "version_minor": 0
      },
      "text/plain": [
       "  0%|          | 0/103 [00:00<?, ?batch/s]"
      ]
     },
     "metadata": {},
     "output_type": "display_data"
    },
    {
     "data": {
      "application/vnd.jupyter.widget-view+json": {
       "model_id": "b7bff1e46d0e4e7ca6206a38d48a9c07",
       "version_major": 2,
       "version_minor": 0
      },
      "text/plain": [
       "  0%|          | 0/103 [00:00<?, ?batch/s]"
      ]
     },
     "metadata": {},
     "output_type": "display_data"
    },
    {
     "data": {
      "application/vnd.jupyter.widget-view+json": {
       "model_id": "77d97f35fafd43b9a1807e542d94d07f",
       "version_major": 2,
       "version_minor": 0
      },
      "text/plain": [
       "  0%|          | 0/103 [00:00<?, ?batch/s]"
      ]
     },
     "metadata": {},
     "output_type": "display_data"
    },
    {
     "data": {
      "application/vnd.jupyter.widget-view+json": {
       "model_id": "399ce9ad0bd34b2a89777d5541de751c",
       "version_major": 2,
       "version_minor": 0
      },
      "text/plain": [
       "  0%|          | 0/103 [00:00<?, ?batch/s]"
      ]
     },
     "metadata": {},
     "output_type": "display_data"
    },
    {
     "data": {
      "application/vnd.jupyter.widget-view+json": {
       "model_id": "2ab11ab9b144431a9ab165eb97e51618",
       "version_major": 2,
       "version_minor": 0
      },
      "text/plain": [
       "  0%|          | 0/103 [00:00<?, ?batch/s]"
      ]
     },
     "metadata": {},
     "output_type": "display_data"
    },
    {
     "data": {
      "application/vnd.jupyter.widget-view+json": {
       "model_id": "d69d05f379c4417eb17894a0e638718b",
       "version_major": 2,
       "version_minor": 0
      },
      "text/plain": [
       "  0%|          | 0/103 [00:00<?, ?batch/s]"
      ]
     },
     "metadata": {},
     "output_type": "display_data"
    },
    {
     "data": {
      "application/vnd.jupyter.widget-view+json": {
       "model_id": "0b6ab54330084ccb97fcdd6de89f9182",
       "version_major": 2,
       "version_minor": 0
      },
      "text/plain": [
       "  0%|          | 0/103 [00:00<?, ?batch/s]"
      ]
     },
     "metadata": {},
     "output_type": "display_data"
    },
    {
     "data": {
      "application/vnd.jupyter.widget-view+json": {
       "model_id": "d4c3fb7693f04a20ad0f671a3a4bf8b5",
       "version_major": 2,
       "version_minor": 0
      },
      "text/plain": [
       "  0%|          | 0/103 [00:00<?, ?batch/s]"
      ]
     },
     "metadata": {},
     "output_type": "display_data"
    },
    {
     "data": {
      "application/vnd.jupyter.widget-view+json": {
       "model_id": "ce4bafc53a79414a8edf3fa9555bd16b",
       "version_major": 2,
       "version_minor": 0
      },
      "text/plain": [
       "  0%|          | 0/103 [00:00<?, ?batch/s]"
      ]
     },
     "metadata": {},
     "output_type": "display_data"
    },
    {
     "data": {
      "application/vnd.jupyter.widget-view+json": {
       "model_id": "ea5edd8fd7b64ed9863cd5ba1123a06e",
       "version_major": 2,
       "version_minor": 0
      },
      "text/plain": [
       "  0%|          | 0/103 [00:00<?, ?batch/s]"
      ]
     },
     "metadata": {},
     "output_type": "display_data"
    },
    {
     "name": "stdout",
     "output_type": "stream",
     "text": [
      "Loss curve:\n"
     ]
    },
    {
     "data": {
      "image/png": "[encoded data removed]",
      "text/plain": [
       "<Figure size 800x400 with 1 Axes>"
      ]
     },
     "metadata": {},
     "output_type": "display_data"
    },
    {
     "name": "stdout",
     "output_type": "stream",
     "text": [
      "Accuracy on validation set 60.65%\n"
     ]
    },
    {
     "data": {
      "text/plain": [
       "<All keys matched successfully>"
      ]
     },
     "execution_count": 33,
     "metadata": {},
     "output_type": "execute_result"
    }
   ],
   "source": [
    "# Initiliase model weights container and lowest loss\n",
    "model_params = []\n",
    "lowest_loss = np.inf\n",
    "\n",
    "# Loop over K-Folds\n",
    "print('Beginning training')\n",
    "skf = StratifiedKFold(n_splits=K_FOLDS, shuffle=True)\n",
    "for fold, (train_idx, val_idx) in enumerate(skf.split(train_data_norm_balanced['Interpacket Timing'].to_numpy(),\n",
    "                                                      train_data_norm_balanced['Device'].to_numpy())):\n",
    "    print(f'\\nFold {fold + 1}/{K_FOLDS}')\n",
    "    \n",
    "    # Create data loaders for the current fold\n",
    "    train_dataloader = DataLoader(dataset=train_dataset,\n",
    "                                  batch_size=BATCH_SIZE, \n",
    "                                  sampler=torch.utils.data.SubsetRandomSampler(train_idx))\n",
    "    val_dataloader = DataLoader(dataset=train_dataset, \n",
    "                                batch_size=BATCH_SIZE, \n",
    "                                sampler=torch.utils.data.SubsetRandomSampler(val_idx))\n",
    "\n",
    "    # Initialise model\n",
    "    DeviceClassifier = LogisticRegression(in_features=N_FEATURES, \n",
    "                                          out_labels=N_LABELS).to(device)\n",
    "    DeviceClassifier.train()\n",
    "    optimizer = torch.optim.Adam(DeviceClassifier.parameters(), lr=LEARNING_RATE)\n",
    "    criterion = nn.CrossEntropyLoss()\n",
    "    total_loss = []\n",
    "\n",
    "    # Loop over epochs\n",
    "    for epoch in range(N_EPOCHS):\n",
    "        # Running loss container\n",
    "        running_loss = 0.0\n",
    "\n",
    "        # Loop over batches\n",
    "        with tqdm(train_dataloader, unit=\"batch\") as tepoch: \n",
    "            for batch_idx, (data, label) in enumerate(tepoch):\n",
    "\n",
    "              # Batch tensor and add channel dimension\n",
    "              batch_tensor = data.to(device)\n",
    "              label = label.to(device)\n",
    "              batch_tensor = batch_tensor[:, None, :]\n",
    "\n",
    "              # Compute reconstructions\n",
    "              results = DeviceClassifier(batch_tensor)\n",
    "              results = results.squeeze()\n",
    "              \n",
    "              # Loss\n",
    "              loss = criterion(results, label)\n",
    "\n",
    "              # Backpropagation based on the loss\n",
    "              optimizer.zero_grad()\n",
    "              loss.backward()\n",
    "              optimizer.step()\n",
    "\n",
    "              # Update loss\n",
    "              running_loss += loss.item()\n",
    "\n",
    "              # Log\n",
    "              if batch_idx % 20 == 0:\n",
    "                tepoch.set_description(f\"Epoch {epoch+1}\")\n",
    "                tepoch.set_postfix(loss=loss.item())\n",
    "\n",
    "            # Average epoch loss\n",
    "            total_loss.append(running_loss/batch_idx+1)\n",
    "\n",
    "            # Check if epoch loss is lowest seen\n",
    "            if total_loss[-1] < lowest_loss:\n",
    "              best_model_params = DeviceClassifier.state_dict()\n",
    "              lowest_loss = total_loss[-1]\n",
    "        \n",
    "    # Plot loss curve\n",
    "    print('Loss curve:')\n",
    "    loss_curve(total_loss, fold+1)\n",
    "\n",
    "    # Save model parameters and reload best model\n",
    "    model_params.append(best_model_params)\n",
    "    DeviceClassifier.load_state_dict(best_model_params)\n",
    "\n",
    "    # Test on validation set\n",
    "    val_true = []\n",
    "    val_pred = []\n",
    "    DeviceClassifier.eval()\n",
    "    with torch.no_grad():\n",
    "      for data, labels in val_dataloader:\n",
    "        # Batch tensor and add channel dimension\n",
    "        batch_tensor = data.to(device)\n",
    "        labels = labels.to(device)\n",
    "        batch_tensor = batch_tensor[:, None, :]\n",
    "\n",
    "        # Obtain model predictions\n",
    "        results = DeviceClassifier(batch_tensor)\n",
    "        results = results.squeeze()\n",
    "\n",
    "        # Save predictions\n",
    "        output = (torch.max(torch.exp(results), 1)[1]).data.cpu().numpy()\n",
    "        val_pred.extend(output)\n",
    "\n",
    "        # Unencode labels and save\n",
    "        labels = onehot_encoder.inverse_transform(labels.cpu().numpy())\n",
    "        labels = np.array([x[0] for x in labels])\n",
    "        val_true.extend(labels)\n",
    "        \n",
    "    # Validation accuracy metrics\n",
    "    val_pred = np.array(val_pred)\n",
    "    val_true = np.array(val_true)\n",
    "    fold_accuracy = accuracy(val_true, val_pred)\n",
    "    print(f'Accuracy on validation set {fold_accuracy:.2f}%')\n",
    "\n",
    "# Create final model from average\n",
    "average_params = {}\n",
    "for param in model_params[0]:\n",
    "    average_params[param] = torch.stack([params[param] for params in model_params], dim=0).mean(dim=0)\n",
    "\n",
    "# Create a new model with the averaged parameters\n",
    "FinalDeviceClassifier = LogisticRegression(in_features=N_FEATURES, \n",
    "                                           out_labels=N_LABELS).to(device)\n",
    "FinalDeviceClassifier.load_state_dict(average_params)"
   ]
  },
  {
   "cell_type": "markdown",
   "metadata": {},
   "source": [
    "### 3.3 Evaluate model"
   ]
  },
  {
   "cell_type": "code",
   "execution_count": 34,
   "metadata": {},
   "outputs": [
    {
     "data": {
      "image/png": "[encoded data removed]",
      "text/plain": [
       "<Figure size 1200x700 with 2 Axes>"
      ]
     },
     "metadata": {},
     "output_type": "display_data"
    },
    {
     "name": "stdout",
     "output_type": "stream",
     "text": [
      "Performance Metrics for Logistic Regression Model:\n"
     ]
    },
    {
     "data": {
      "text/html": [
       "<div>\n",
       "<style scoped>\n",
       "    .dataframe tbody tr th:only-of-type {\n",
       "        vertical-align: middle;\n",
       "    }\n",
       "\n",
       "    .dataframe tbody tr th {\n",
       "        vertical-align: top;\n",
       "    }\n",
       "\n",
       "    .dataframe thead th {\n",
       "        text-align: right;\n",
       "    }\n",
       "</style>\n",
       "<table border=\"1\" class=\"dataframe\">\n",
       "  <thead>\n",
       "    <tr style=\"text-align: right;\">\n",
       "      <th></th>\n",
       "      <th>ihealth_bpm</th>\n",
       "      <th>viatom_wpo</th>\n",
       "      <th>vivachek_bgm</th>\n",
       "    </tr>\n",
       "  </thead>\n",
       "  <tbody>\n",
       "    <tr>\n",
       "      <th>Precision</th>\n",
       "      <td>0.59</td>\n",
       "      <td>1.00</td>\n",
       "      <td>0.51</td>\n",
       "    </tr>\n",
       "    <tr>\n",
       "      <th>Recall</th>\n",
       "      <td>0.65</td>\n",
       "      <td>0.71</td>\n",
       "      <td>0.46</td>\n",
       "    </tr>\n",
       "    <tr>\n",
       "      <th>F1 Score</th>\n",
       "      <td>0.62</td>\n",
       "      <td>0.83</td>\n",
       "      <td>0.49</td>\n",
       "    </tr>\n",
       "  </tbody>\n",
       "</table>\n",
       "</div>"
      ],
      "text/plain": [
       "           ihealth_bpm  viatom_wpo  vivachek_bgm\n",
       "Precision         0.59        1.00          0.51\n",
       "Recall            0.65        0.71          0.46\n",
       "F1 Score          0.62        0.83          0.49"
      ]
     },
     "metadata": {},
     "output_type": "display_data"
    },
    {
     "name": "stdout",
     "output_type": "stream",
     "text": [
      "Logistic Regression Model accuracy on test set: 57.06%\n"
     ]
    }
   ],
   "source": [
    "# Containers for predictions\n",
    "log_y_pred = []\n",
    "y_true = []\n",
    "\n",
    "# Put model in evaluation mode\n",
    "FinalDeviceClassifier.eval()\n",
    "torch.no_grad()\n",
    "\n",
    "# Loop over test batches\n",
    "for data, labels in test_dataloader:\n",
    "    # Batch tensor and add channel dimension\n",
    "    batch_tensor = data.to(device)\n",
    "    labels = labels.to(device)\n",
    "    batch_tensor = batch_tensor[:, None, :]\n",
    "\n",
    "    # Obtain model predictions\n",
    "    results = FinalDeviceClassifier(batch_tensor)\n",
    "    results = results.squeeze()\n",
    "\n",
    "    # Save predictions\n",
    "    output = (torch.max(torch.exp(results), 1)[1]).data.cpu().numpy()\n",
    "    log_y_pred.extend(output)\n",
    "\n",
    "    # Unencode labels and save\n",
    "    labels = onehot_encoder.inverse_transform(labels.cpu().numpy())\n",
    "    labels = np.array([x[0] for x in labels])\n",
    "    y_true.extend(labels)\n",
    "\n",
    "# Calculate performance metrics\n",
    "log_y_pred = np.array(log_y_pred)\n",
    "y_true = np.array(y_true)\n",
    "lr_accuracy, performance_df = calculate_metrics(y_true, log_y_pred, model='Logistic Regression')\n",
    "print('Performance Metrics for Logistic Regression Model:')\n",
    "display(performance_df)\n",
    "print(f'Logistic Regression Model accuracy on test set: {lr_accuracy:.2f}%')"
   ]
  },
  {
   "cell_type": "markdown",
   "metadata": {},
   "source": [
    "## **4. Support Vector Machine (SVM)**"
   ]
  },
  {
   "cell_type": "markdown",
   "metadata": {},
   "source": [
    "### 3.1 Define and fit model"
   ]
  },
  {
   "cell_type": "code",
   "execution_count": 35,
   "metadata": {},
   "outputs": [
    {
     "data": {
      "text/html": [
       "<style>#sk-container-id-1 {color: black;background-color: white;}#sk-container-id-1 pre{padding: 0;}#sk-container-id-1 div.sk-toggleable {background-color: white;}#sk-container-id-1 label.sk-toggleable__label {cursor: pointer;display: block;width: 100%;margin-bottom: 0;padding: 0.3em;box-sizing: border-box;text-align: center;}#sk-container-id-1 label.sk-toggleable__label-arrow:before {content: \"▸\";float: left;margin-right: 0.25em;color: #696969;}#sk-container-id-1 label.sk-toggleable__label-arrow:hover:before {color: black;}#sk-container-id-1 div.sk-estimator:hover label.sk-toggleable__label-arrow:before {color: black;}#sk-container-id-1 div.sk-toggleable__content {max-height: 0;max-width: 0;overflow: hidden;text-align: left;background-color: #f0f8ff;}#sk-container-id-1 div.sk-toggleable__content pre {margin: 0.2em;color: black;border-radius: 0.25em;background-color: #f0f8ff;}#sk-container-id-1 input.sk-toggleable__control:checked~div.sk-toggleable__content {max-height: 200px;max-width: 100%;overflow: auto;}#sk-container-id-1 input.sk-toggleable__control:checked~label.sk-toggleable__label-arrow:before {content: \"▾\";}#sk-container-id-1 div.sk-estimator input.sk-toggleable__control:checked~label.sk-toggleable__label {background-color: #d4ebff;}#sk-container-id-1 div.sk-label input.sk-toggleable__control:checked~label.sk-toggleable__label {background-color: #d4ebff;}#sk-container-id-1 input.sk-hidden--visually {border: 0;clip: rect(1px 1px 1px 1px);clip: rect(1px, 1px, 1px, 1px);height: 1px;margin: -1px;overflow: hidden;padding: 0;position: absolute;width: 1px;}#sk-container-id-1 div.sk-estimator {font-family: monospace;background-color: #f0f8ff;border: 1px dotted black;border-radius: 0.25em;box-sizing: border-box;margin-bottom: 0.5em;}#sk-container-id-1 div.sk-estimator:hover {background-color: #d4ebff;}#sk-container-id-1 div.sk-parallel-item::after {content: \"\";width: 100%;border-bottom: 1px solid gray;flex-grow: 1;}#sk-container-id-1 div.sk-label:hover label.sk-toggleable__label {background-color: #d4ebff;}#sk-container-id-1 div.sk-serial::before {content: \"\";position: absolute;border-left: 1px solid gray;box-sizing: border-box;top: 0;bottom: 0;left: 50%;z-index: 0;}#sk-container-id-1 div.sk-serial {display: flex;flex-direction: column;align-items: center;background-color: white;padding-right: 0.2em;padding-left: 0.2em;position: relative;}#sk-container-id-1 div.sk-item {position: relative;z-index: 1;}#sk-container-id-1 div.sk-parallel {display: flex;align-items: stretch;justify-content: center;background-color: white;position: relative;}#sk-container-id-1 div.sk-item::before, #sk-container-id-1 div.sk-parallel-item::before {content: \"\";position: absolute;border-left: 1px solid gray;box-sizing: border-box;top: 0;bottom: 0;left: 50%;z-index: -1;}#sk-container-id-1 div.sk-parallel-item {display: flex;flex-direction: column;z-index: 1;position: relative;background-color: white;}#sk-container-id-1 div.sk-parallel-item:first-child::after {align-self: flex-end;width: 50%;}#sk-container-id-1 div.sk-parallel-item:last-child::after {align-self: flex-start;width: 50%;}#sk-container-id-1 div.sk-parallel-item:only-child::after {width: 0;}#sk-container-id-1 div.sk-dashed-wrapped {border: 1px dashed gray;margin: 0 0.4em 0.5em 0.4em;box-sizing: border-box;padding-bottom: 0.4em;background-color: white;}#sk-container-id-1 div.sk-label label {font-family: monospace;font-weight: bold;display: inline-block;line-height: 1.2em;}#sk-container-id-1 div.sk-label-container {text-align: center;}#sk-container-id-1 div.sk-container {/* jupyter's `normalize.less` sets `[hidden] { display: none; }` but bootstrap.min.css set `[hidden] { display: none !important; }` so we also need the `!important` here to be able to override the default hidden behavior on the sphinx rendered scikit-learn.org. See: https://github.com/scikit-learn/scikit-learn/issues/21755 */display: inline-block !important;position: relative;}#sk-container-id-1 div.sk-text-repr-fallback {display: none;}</style><div id=\"sk-container-id-1\" class=\"sk-top-container\"><div class=\"sk-text-repr-fallback\"><pre>SVC(C=1, kernel=&#x27;linear&#x27;)</pre><b>In a Jupyter environment, please rerun this cell to show the HTML representation or trust the notebook. <br />On GitHub, the HTML representation is unable to render, please try loading this page with nbviewer.org.</b></div><div class=\"sk-container\" hidden><div class=\"sk-item\"><div class=\"sk-estimator sk-toggleable\"><input class=\"sk-toggleable__control sk-hidden--visually\" id=\"sk-estimator-id-1\" type=\"checkbox\" checked><label for=\"sk-estimator-id-1\" class=\"sk-toggleable__label sk-toggleable__label-arrow\">SVC</label><div class=\"sk-toggleable__content\"><pre>SVC(C=1, kernel=&#x27;linear&#x27;)</pre></div></div></div></div></div>"
      ],
      "text/plain": [
       "SVC(C=1, kernel='linear')"
      ]
     },
     "execution_count": 35,
     "metadata": {},
     "output_type": "execute_result"
    }
   ],
   "source": [
    "# Create data arrays\n",
    "X_train = train_data_norm_balanced['Interpacket Timing'].values\n",
    "X_test = test_data_norm['Interpacket Timing'].values\n",
    "y_train = train_data_norm_balanced['Device'].values\n",
    "y_test = test_data_norm['Device'].values\n",
    "\n",
    "# Create an SVM classifier\n",
    "SVMClassifier = svm.SVC(kernel='linear', C=1)\n",
    "\n",
    "# Train the classifier on the training data\n",
    "SVMClassifier.fit(X_train.reshape(-1, 1), y_train)"
   ]
  },
  {
   "cell_type": "markdown",
   "metadata": {},
   "source": [
    "### 3.2 Evaluate model"
   ]
  },
  {
   "cell_type": "code",
   "execution_count": 36,
   "metadata": {},
   "outputs": [
    {
     "data": {
      "image/png": "[encoded data removed]",
      "text/plain": [
       "<Figure size 1200x700 with 2 Axes>"
      ]
     },
     "metadata": {},
     "output_type": "display_data"
    },
    {
     "name": "stdout",
     "output_type": "stream",
     "text": [
      "Performance Metrics for SVM Model:\n"
     ]
    },
    {
     "data": {
      "text/html": [
       "<div>\n",
       "<style scoped>\n",
       "    .dataframe tbody tr th:only-of-type {\n",
       "        vertical-align: middle;\n",
       "    }\n",
       "\n",
       "    .dataframe tbody tr th {\n",
       "        vertical-align: top;\n",
       "    }\n",
       "\n",
       "    .dataframe thead th {\n",
       "        text-align: right;\n",
       "    }\n",
       "</style>\n",
       "<table border=\"1\" class=\"dataframe\">\n",
       "  <thead>\n",
       "    <tr style=\"text-align: right;\">\n",
       "      <th></th>\n",
       "      <th>ihealth_bpm</th>\n",
       "      <th>viatom_wpo</th>\n",
       "      <th>vivachek_bgm</th>\n",
       "    </tr>\n",
       "  </thead>\n",
       "  <tbody>\n",
       "    <tr>\n",
       "      <th>Precision</th>\n",
       "      <td>0.59</td>\n",
       "      <td>1.00</td>\n",
       "      <td>0.54</td>\n",
       "    </tr>\n",
       "    <tr>\n",
       "      <th>Recall</th>\n",
       "      <td>0.77</td>\n",
       "      <td>0.71</td>\n",
       "      <td>0.34</td>\n",
       "    </tr>\n",
       "    <tr>\n",
       "      <th>F1 Score</th>\n",
       "      <td>0.67</td>\n",
       "      <td>0.83</td>\n",
       "      <td>0.42</td>\n",
       "    </tr>\n",
       "  </tbody>\n",
       "</table>\n",
       "</div>"
      ],
      "text/plain": [
       "           ihealth_bpm  viatom_wpo  vivachek_bgm\n",
       "Precision         0.59        1.00          0.54\n",
       "Recall            0.77        0.71          0.34\n",
       "F1 Score          0.67        0.83          0.42"
      ]
     },
     "metadata": {},
     "output_type": "display_data"
    },
    {
     "name": "stdout",
     "output_type": "stream",
     "text": [
      "SVM Model accuracy on test set: 58.28%\n"
     ]
    }
   ],
   "source": [
    "# Make predictions on the test set\n",
    "svm_y_pred = SVMClassifier.predict(X_test.reshape(-1, 1))\n",
    "\n",
    "# Calculate performance metrics\n",
    "svm_y_pred = SVMClassifier.predict(X_test.reshape(-1, 1))\n",
    "y_true = y_test\n",
    "svm_accuracy, performance_df = calculate_metrics(y_true, svm_y_pred, model='SVM')\n",
    "print('Performance Metrics for SVM Model:')\n",
    "display(performance_df)\n",
    "print(f'SVM Model accuracy on test set: {svm_accuracy:.2f}%')"
   ]
  }
 ],
 "metadata": {
  "kernelspec": {
   "display_name": "venv",
   "language": "python",
   "name": "python3"
  },
  "language_info": {
   "codemirror_mode": {
    "name": "ipython",
    "version": 3
   },
   "file_extension": ".py",
   "mimetype": "text/x-python",
   "name": "python",
   "nbconvert_exporter": "python",
   "pygments_lexer": "ipython3",
   "version": "3.8.15"
  },
  "orig_nbformat": 4
 },
 "nbformat": 4,
 "nbformat_minor": 2
}
